{
 "cells": [
  {
   "cell_type": "markdown",
   "metadata": {},
   "source": [
    "# Pre-Processing and Training Data"
   ]
  },
  {
   "cell_type": "markdown",
   "metadata": {},
   "source": [
    "## Imports"
   ]
  },
  {
   "cell_type": "code",
   "execution_count": 1,
   "metadata": {},
   "outputs": [],
   "source": [
    "import pandas as pd\n",
    "import numpy as np"
   ]
  },
  {
   "cell_type": "markdown",
   "metadata": {},
   "source": [
    "## Load data"
   ]
  },
  {
   "cell_type": "code",
   "execution_count": 2,
   "metadata": {},
   "outputs": [
    {
     "data": {
      "text/html": [
       "<div>\n",
       "<style scoped>\n",
       "    .dataframe tbody tr th:only-of-type {\n",
       "        vertical-align: middle;\n",
       "    }\n",
       "\n",
       "    .dataframe tbody tr th {\n",
       "        vertical-align: top;\n",
       "    }\n",
       "\n",
       "    .dataframe thead th {\n",
       "        text-align: right;\n",
       "    }\n",
       "</style>\n",
       "<table border=\"1\" class=\"dataframe\">\n",
       "  <thead>\n",
       "    <tr style=\"text-align: right;\">\n",
       "      <th></th>\n",
       "      <th>2833</th>\n",
       "      <th>1166</th>\n",
       "      <th>6853</th>\n",
       "      <th>622</th>\n",
       "      <th>102</th>\n",
       "    </tr>\n",
       "  </thead>\n",
       "  <tbody>\n",
       "    <tr>\n",
       "      <th>id</th>\n",
       "      <td>19456827</td>\n",
       "      <td>9171142</td>\n",
       "      <td>41342626</td>\n",
       "      <td>4341539</td>\n",
       "      <td>604169</td>\n",
       "    </tr>\n",
       "    <tr>\n",
       "      <th>description</th>\n",
       "      <td>True</td>\n",
       "      <td>True</td>\n",
       "      <td>True</td>\n",
       "      <td>True</td>\n",
       "      <td>True</td>\n",
       "    </tr>\n",
       "    <tr>\n",
       "      <th>neighborhood_overview</th>\n",
       "      <td>True</td>\n",
       "      <td>True</td>\n",
       "      <td>False</td>\n",
       "      <td>True</td>\n",
       "      <td>True</td>\n",
       "    </tr>\n",
       "    <tr>\n",
       "      <th>host_id</th>\n",
       "      <td>135271319</td>\n",
       "      <td>26954520</td>\n",
       "      <td>324723473</td>\n",
       "      <td>8336938</td>\n",
       "      <td>2990799</td>\n",
       "    </tr>\n",
       "    <tr>\n",
       "      <th>host_location</th>\n",
       "      <td>San Diego, California, United States</td>\n",
       "      <td>San Diego, California, United States</td>\n",
       "      <td>San Diego, California, United States</td>\n",
       "      <td>San Diego, California, United States</td>\n",
       "      <td>San Diego, California, United States</td>\n",
       "    </tr>\n",
       "    <tr>\n",
       "      <th>host_about</th>\n",
       "      <td>True</td>\n",
       "      <td>True</td>\n",
       "      <td>False</td>\n",
       "      <td>True</td>\n",
       "      <td>True</td>\n",
       "    </tr>\n",
       "    <tr>\n",
       "      <th>host_response_time</th>\n",
       "      <td>within an hour</td>\n",
       "      <td>within an hour</td>\n",
       "      <td>within an hour</td>\n",
       "      <td>within an hour</td>\n",
       "      <td>within an hour</td>\n",
       "    </tr>\n",
       "    <tr>\n",
       "      <th>host_response_rate</th>\n",
       "      <td>100%</td>\n",
       "      <td>100%</td>\n",
       "      <td>100%</td>\n",
       "      <td>100%</td>\n",
       "      <td>100%</td>\n",
       "    </tr>\n",
       "    <tr>\n",
       "      <th>host_acceptance_rate</th>\n",
       "      <td>100%</td>\n",
       "      <td>100%</td>\n",
       "      <td>80%</td>\n",
       "      <td>93%</td>\n",
       "      <td>96%</td>\n",
       "    </tr>\n",
       "    <tr>\n",
       "      <th>host_is_superhost</th>\n",
       "      <td>True</td>\n",
       "      <td>False</td>\n",
       "      <td>False</td>\n",
       "      <td>True</td>\n",
       "      <td>True</td>\n",
       "    </tr>\n",
       "    <tr>\n",
       "      <th>host_neighbourhood</th>\n",
       "      <td>Pacific Beach</td>\n",
       "      <td>La Jolla</td>\n",
       "      <td>NaN</td>\n",
       "      <td>Mission Beach</td>\n",
       "      <td>La Playa</td>\n",
       "    </tr>\n",
       "    <tr>\n",
       "      <th>host_listings_count</th>\n",
       "      <td>26.0</td>\n",
       "      <td>3.0</td>\n",
       "      <td>1.0</td>\n",
       "      <td>37.0</td>\n",
       "      <td>9.0</td>\n",
       "    </tr>\n",
       "    <tr>\n",
       "      <th>host_has_profile_pic</th>\n",
       "      <td>True</td>\n",
       "      <td>True</td>\n",
       "      <td>True</td>\n",
       "      <td>True</td>\n",
       "      <td>True</td>\n",
       "    </tr>\n",
       "    <tr>\n",
       "      <th>host_identity_verified</th>\n",
       "      <td>True</td>\n",
       "      <td>True</td>\n",
       "      <td>True</td>\n",
       "      <td>True</td>\n",
       "      <td>True</td>\n",
       "    </tr>\n",
       "    <tr>\n",
       "      <th>neighbourhood</th>\n",
       "      <td>Pacific Beach</td>\n",
       "      <td>La Jolla</td>\n",
       "      <td>Pacific Beach</td>\n",
       "      <td>Ocean Beach</td>\n",
       "      <td>Midtown District</td>\n",
       "    </tr>\n",
       "    <tr>\n",
       "      <th>latitude</th>\n",
       "      <td>32.7982</td>\n",
       "      <td>32.85511</td>\n",
       "      <td>32.79891</td>\n",
       "      <td>32.74391</td>\n",
       "      <td>32.71937</td>\n",
       "    </tr>\n",
       "    <tr>\n",
       "      <th>longitude</th>\n",
       "      <td>-117.25643</td>\n",
       "      <td>-117.24727</td>\n",
       "      <td>-117.23463</td>\n",
       "      <td>-117.25194</td>\n",
       "      <td>-117.22115</td>\n",
       "    </tr>\n",
       "    <tr>\n",
       "      <th>property_type</th>\n",
       "      <td>hostel</td>\n",
       "      <td>townhouse</td>\n",
       "      <td>tiny house</td>\n",
       "      <td>condominium</td>\n",
       "      <td>boat</td>\n",
       "    </tr>\n",
       "    <tr>\n",
       "      <th>room_type</th>\n",
       "      <td>Shared room</td>\n",
       "      <td>Private room</td>\n",
       "      <td>Entire home/apt</td>\n",
       "      <td>Entire home/apt</td>\n",
       "      <td>Entire home/apt</td>\n",
       "    </tr>\n",
       "    <tr>\n",
       "      <th>accommodates</th>\n",
       "      <td>1</td>\n",
       "      <td>2</td>\n",
       "      <td>2</td>\n",
       "      <td>6</td>\n",
       "      <td>5</td>\n",
       "    </tr>\n",
       "    <tr>\n",
       "      <th>bathrooms_text</th>\n",
       "      <td>3 shared baths</td>\n",
       "      <td>1 private bath</td>\n",
       "      <td>1 bath</td>\n",
       "      <td>1 bath</td>\n",
       "      <td>1 bath</td>\n",
       "    </tr>\n",
       "    <tr>\n",
       "      <th>bedrooms</th>\n",
       "      <td>1.0</td>\n",
       "      <td>1.0</td>\n",
       "      <td>1.0</td>\n",
       "      <td>2.0</td>\n",
       "      <td>2.0</td>\n",
       "    </tr>\n",
       "    <tr>\n",
       "      <th>beds</th>\n",
       "      <td>1.0</td>\n",
       "      <td>1.0</td>\n",
       "      <td>1.0</td>\n",
       "      <td>4.0</td>\n",
       "      <td>1.0</td>\n",
       "    </tr>\n",
       "    <tr>\n",
       "      <th>amenities</th>\n",
       "      <td>['Hot water', 'Stove', 'Beach essentials', 'Sm...</td>\n",
       "      <td>['Hot water', 'Beach essentials', 'Smoke alarm...</td>\n",
       "      <td>['Hot water', 'Stove', 'Smoke alarm', 'Refrige...</td>\n",
       "      <td>['Hot water', 'High chair', 'Stove', 'Beach es...</td>\n",
       "      <td>['Hot water', 'Stove', 'Smoke alarm', 'Refrige...</td>\n",
       "    </tr>\n",
       "    <tr>\n",
       "      <th>price</th>\n",
       "      <td>40.0</td>\n",
       "      <td>104.0</td>\n",
       "      <td>198.0</td>\n",
       "      <td>129.0</td>\n",
       "      <td>242.0</td>\n",
       "    </tr>\n",
       "    <tr>\n",
       "      <th>minimum_nights</th>\n",
       "      <td>1</td>\n",
       "      <td>1</td>\n",
       "      <td>2</td>\n",
       "      <td>7</td>\n",
       "      <td>2</td>\n",
       "    </tr>\n",
       "    <tr>\n",
       "      <th>maximum_nights</th>\n",
       "      <td>21</td>\n",
       "      <td>1125</td>\n",
       "      <td>5</td>\n",
       "      <td>180</td>\n",
       "      <td>30</td>\n",
       "    </tr>\n",
       "    <tr>\n",
       "      <th>review_scores_rating</th>\n",
       "      <td>96.0</td>\n",
       "      <td>93.0</td>\n",
       "      <td>93.0</td>\n",
       "      <td>95.0</td>\n",
       "      <td>94.0</td>\n",
       "    </tr>\n",
       "    <tr>\n",
       "      <th>instant_bookable</th>\n",
       "      <td>True</td>\n",
       "      <td>True</td>\n",
       "      <td>False</td>\n",
       "      <td>True</td>\n",
       "      <td>False</td>\n",
       "    </tr>\n",
       "    <tr>\n",
       "      <th>reviews_per_month</th>\n",
       "      <td>0.12</td>\n",
       "      <td>4.23</td>\n",
       "      <td>0.33</td>\n",
       "      <td>0.97</td>\n",
       "      <td>0.33</td>\n",
       "    </tr>\n",
       "    <tr>\n",
       "      <th>host_in_SD</th>\n",
       "      <td>True</td>\n",
       "      <td>True</td>\n",
       "      <td>False</td>\n",
       "      <td>False</td>\n",
       "      <td>False</td>\n",
       "    </tr>\n",
       "  </tbody>\n",
       "</table>\n",
       "</div>"
      ],
      "text/plain": [
       "                                                                     2833  \\\n",
       "id                                                               19456827   \n",
       "description                                                          True   \n",
       "neighborhood_overview                                                True   \n",
       "host_id                                                         135271319   \n",
       "host_location                        San Diego, California, United States   \n",
       "host_about                                                           True   \n",
       "host_response_time                                         within an hour   \n",
       "host_response_rate                                                   100%   \n",
       "host_acceptance_rate                                                 100%   \n",
       "host_is_superhost                                                    True   \n",
       "host_neighbourhood                                          Pacific Beach   \n",
       "host_listings_count                                                  26.0   \n",
       "host_has_profile_pic                                                 True   \n",
       "host_identity_verified                                               True   \n",
       "neighbourhood                                               Pacific Beach   \n",
       "latitude                                                          32.7982   \n",
       "longitude                                                      -117.25643   \n",
       "property_type                                                      hostel   \n",
       "room_type                                                     Shared room   \n",
       "accommodates                                                            1   \n",
       "bathrooms_text                                             3 shared baths   \n",
       "bedrooms                                                              1.0   \n",
       "beds                                                                  1.0   \n",
       "amenities               ['Hot water', 'Stove', 'Beach essentials', 'Sm...   \n",
       "price                                                                40.0   \n",
       "minimum_nights                                                          1   \n",
       "maximum_nights                                                         21   \n",
       "review_scores_rating                                                 96.0   \n",
       "instant_bookable                                                     True   \n",
       "reviews_per_month                                                    0.12   \n",
       "host_in_SD                                                           True   \n",
       "\n",
       "                                                                     1166  \\\n",
       "id                                                                9171142   \n",
       "description                                                          True   \n",
       "neighborhood_overview                                                True   \n",
       "host_id                                                          26954520   \n",
       "host_location                        San Diego, California, United States   \n",
       "host_about                                                           True   \n",
       "host_response_time                                         within an hour   \n",
       "host_response_rate                                                   100%   \n",
       "host_acceptance_rate                                                 100%   \n",
       "host_is_superhost                                                   False   \n",
       "host_neighbourhood                                               La Jolla   \n",
       "host_listings_count                                                   3.0   \n",
       "host_has_profile_pic                                                 True   \n",
       "host_identity_verified                                               True   \n",
       "neighbourhood                                                    La Jolla   \n",
       "latitude                                                         32.85511   \n",
       "longitude                                                      -117.24727   \n",
       "property_type                                                   townhouse   \n",
       "room_type                                                    Private room   \n",
       "accommodates                                                            2   \n",
       "bathrooms_text                                             1 private bath   \n",
       "bedrooms                                                              1.0   \n",
       "beds                                                                  1.0   \n",
       "amenities               ['Hot water', 'Beach essentials', 'Smoke alarm...   \n",
       "price                                                               104.0   \n",
       "minimum_nights                                                          1   \n",
       "maximum_nights                                                       1125   \n",
       "review_scores_rating                                                 93.0   \n",
       "instant_bookable                                                     True   \n",
       "reviews_per_month                                                    4.23   \n",
       "host_in_SD                                                           True   \n",
       "\n",
       "                                                                     6853  \\\n",
       "id                                                               41342626   \n",
       "description                                                          True   \n",
       "neighborhood_overview                                               False   \n",
       "host_id                                                         324723473   \n",
       "host_location                        San Diego, California, United States   \n",
       "host_about                                                          False   \n",
       "host_response_time                                         within an hour   \n",
       "host_response_rate                                                   100%   \n",
       "host_acceptance_rate                                                  80%   \n",
       "host_is_superhost                                                   False   \n",
       "host_neighbourhood                                                    NaN   \n",
       "host_listings_count                                                   1.0   \n",
       "host_has_profile_pic                                                 True   \n",
       "host_identity_verified                                               True   \n",
       "neighbourhood                                               Pacific Beach   \n",
       "latitude                                                         32.79891   \n",
       "longitude                                                      -117.23463   \n",
       "property_type                                                  tiny house   \n",
       "room_type                                                 Entire home/apt   \n",
       "accommodates                                                            2   \n",
       "bathrooms_text                                                     1 bath   \n",
       "bedrooms                                                              1.0   \n",
       "beds                                                                  1.0   \n",
       "amenities               ['Hot water', 'Stove', 'Smoke alarm', 'Refrige...   \n",
       "price                                                               198.0   \n",
       "minimum_nights                                                          2   \n",
       "maximum_nights                                                          5   \n",
       "review_scores_rating                                                 93.0   \n",
       "instant_bookable                                                    False   \n",
       "reviews_per_month                                                    0.33   \n",
       "host_in_SD                                                          False   \n",
       "\n",
       "                                                                     622   \\\n",
       "id                                                                4341539   \n",
       "description                                                          True   \n",
       "neighborhood_overview                                                True   \n",
       "host_id                                                           8336938   \n",
       "host_location                        San Diego, California, United States   \n",
       "host_about                                                           True   \n",
       "host_response_time                                         within an hour   \n",
       "host_response_rate                                                   100%   \n",
       "host_acceptance_rate                                                  93%   \n",
       "host_is_superhost                                                    True   \n",
       "host_neighbourhood                                          Mission Beach   \n",
       "host_listings_count                                                  37.0   \n",
       "host_has_profile_pic                                                 True   \n",
       "host_identity_verified                                               True   \n",
       "neighbourhood                                                 Ocean Beach   \n",
       "latitude                                                         32.74391   \n",
       "longitude                                                      -117.25194   \n",
       "property_type                                                 condominium   \n",
       "room_type                                                 Entire home/apt   \n",
       "accommodates                                                            6   \n",
       "bathrooms_text                                                     1 bath   \n",
       "bedrooms                                                              2.0   \n",
       "beds                                                                  4.0   \n",
       "amenities               ['Hot water', 'High chair', 'Stove', 'Beach es...   \n",
       "price                                                               129.0   \n",
       "minimum_nights                                                          7   \n",
       "maximum_nights                                                        180   \n",
       "review_scores_rating                                                 95.0   \n",
       "instant_bookable                                                     True   \n",
       "reviews_per_month                                                    0.97   \n",
       "host_in_SD                                                          False   \n",
       "\n",
       "                                                                     102   \n",
       "id                                                                 604169  \n",
       "description                                                          True  \n",
       "neighborhood_overview                                                True  \n",
       "host_id                                                           2990799  \n",
       "host_location                        San Diego, California, United States  \n",
       "host_about                                                           True  \n",
       "host_response_time                                         within an hour  \n",
       "host_response_rate                                                   100%  \n",
       "host_acceptance_rate                                                  96%  \n",
       "host_is_superhost                                                    True  \n",
       "host_neighbourhood                                               La Playa  \n",
       "host_listings_count                                                   9.0  \n",
       "host_has_profile_pic                                                 True  \n",
       "host_identity_verified                                               True  \n",
       "neighbourhood                                            Midtown District  \n",
       "latitude                                                         32.71937  \n",
       "longitude                                                      -117.22115  \n",
       "property_type                                                        boat  \n",
       "room_type                                                 Entire home/apt  \n",
       "accommodates                                                            5  \n",
       "bathrooms_text                                                     1 bath  \n",
       "bedrooms                                                              2.0  \n",
       "beds                                                                  1.0  \n",
       "amenities               ['Hot water', 'Stove', 'Smoke alarm', 'Refrige...  \n",
       "price                                                               242.0  \n",
       "minimum_nights                                                          2  \n",
       "maximum_nights                                                         30  \n",
       "review_scores_rating                                                 94.0  \n",
       "instant_bookable                                                    False  \n",
       "reviews_per_month                                                    0.33  \n",
       "host_in_SD                                                          False  "
      ]
     },
     "execution_count": 2,
     "metadata": {},
     "output_type": "execute_result"
    }
   ],
   "source": [
    "data = pd.read_csv('../listings_cleaned_updated.csv')\n",
    "data.sample(5).T"
   ]
  },
  {
   "cell_type": "code",
   "execution_count": 3,
   "metadata": {},
   "outputs": [
    {
     "data": {
      "text/plain": [
       "(9274, 31)"
      ]
     },
     "execution_count": 3,
     "metadata": {},
     "output_type": "execute_result"
    }
   ],
   "source": [
    "data.shape"
   ]
  },
  {
   "cell_type": "code",
   "execution_count": 4,
   "metadata": {},
   "outputs": [],
   "source": [
    "# remebered what we discovered in EDA notebook\n",
    "# drop columns that has been replaced/substituted\n",
    "drop_cols = ['host_location','host_neighbourhood']\n",
    "data.drop(columns=drop_cols, inplace=True)"
   ]
  },
  {
   "cell_type": "code",
   "execution_count": 5,
   "metadata": {},
   "outputs": [
    {
     "data": {
      "text/html": [
       "<div>\n",
       "<style scoped>\n",
       "    .dataframe tbody tr th:only-of-type {\n",
       "        vertical-align: middle;\n",
       "    }\n",
       "\n",
       "    .dataframe tbody tr th {\n",
       "        vertical-align: top;\n",
       "    }\n",
       "\n",
       "    .dataframe thead th {\n",
       "        text-align: right;\n",
       "    }\n",
       "</style>\n",
       "<table border=\"1\" class=\"dataframe\">\n",
       "  <thead>\n",
       "    <tr style=\"text-align: right;\">\n",
       "      <th></th>\n",
       "      <th>4252</th>\n",
       "      <th>5638</th>\n",
       "      <th>4649</th>\n",
       "    </tr>\n",
       "  </thead>\n",
       "  <tbody>\n",
       "    <tr>\n",
       "      <th>id</th>\n",
       "      <td>26865491</td>\n",
       "      <td>35578022</td>\n",
       "      <td>29649973</td>\n",
       "    </tr>\n",
       "    <tr>\n",
       "      <th>description</th>\n",
       "      <td>True</td>\n",
       "      <td>True</td>\n",
       "      <td>True</td>\n",
       "    </tr>\n",
       "    <tr>\n",
       "      <th>neighborhood_overview</th>\n",
       "      <td>True</td>\n",
       "      <td>True</td>\n",
       "      <td>False</td>\n",
       "    </tr>\n",
       "    <tr>\n",
       "      <th>host_id</th>\n",
       "      <td>147988535</td>\n",
       "      <td>53631296</td>\n",
       "      <td>223166063</td>\n",
       "    </tr>\n",
       "    <tr>\n",
       "      <th>host_about</th>\n",
       "      <td>True</td>\n",
       "      <td>True</td>\n",
       "      <td>False</td>\n",
       "    </tr>\n",
       "    <tr>\n",
       "      <th>host_response_time</th>\n",
       "      <td>within an hour</td>\n",
       "      <td>within an hour</td>\n",
       "      <td>NaN</td>\n",
       "    </tr>\n",
       "    <tr>\n",
       "      <th>host_response_rate</th>\n",
       "      <td>100%</td>\n",
       "      <td>100%</td>\n",
       "      <td>NaN</td>\n",
       "    </tr>\n",
       "    <tr>\n",
       "      <th>host_acceptance_rate</th>\n",
       "      <td>100%</td>\n",
       "      <td>98%</td>\n",
       "      <td>0%</td>\n",
       "    </tr>\n",
       "    <tr>\n",
       "      <th>host_is_superhost</th>\n",
       "      <td>False</td>\n",
       "      <td>True</td>\n",
       "      <td>False</td>\n",
       "    </tr>\n",
       "    <tr>\n",
       "      <th>host_listings_count</th>\n",
       "      <td>1.0</td>\n",
       "      <td>8.0</td>\n",
       "      <td>1.0</td>\n",
       "    </tr>\n",
       "    <tr>\n",
       "      <th>host_has_profile_pic</th>\n",
       "      <td>True</td>\n",
       "      <td>True</td>\n",
       "      <td>False</td>\n",
       "    </tr>\n",
       "    <tr>\n",
       "      <th>host_identity_verified</th>\n",
       "      <td>False</td>\n",
       "      <td>True</td>\n",
       "      <td>True</td>\n",
       "    </tr>\n",
       "    <tr>\n",
       "      <th>neighbourhood</th>\n",
       "      <td>Pacific Beach</td>\n",
       "      <td>Loma Portal</td>\n",
       "      <td>University City</td>\n",
       "    </tr>\n",
       "    <tr>\n",
       "      <th>latitude</th>\n",
       "      <td>32.79656</td>\n",
       "      <td>32.74162</td>\n",
       "      <td>32.85478</td>\n",
       "    </tr>\n",
       "    <tr>\n",
       "      <th>longitude</th>\n",
       "      <td>-117.25743</td>\n",
       "      <td>-117.23195</td>\n",
       "      <td>-117.20442</td>\n",
       "    </tr>\n",
       "    <tr>\n",
       "      <th>property_type</th>\n",
       "      <td>condominium</td>\n",
       "      <td>townhouse</td>\n",
       "      <td>apartment</td>\n",
       "    </tr>\n",
       "    <tr>\n",
       "      <th>room_type</th>\n",
       "      <td>Entire home/apt</td>\n",
       "      <td>Entire home/apt</td>\n",
       "      <td>Private room</td>\n",
       "    </tr>\n",
       "    <tr>\n",
       "      <th>accommodates</th>\n",
       "      <td>5</td>\n",
       "      <td>8</td>\n",
       "      <td>2</td>\n",
       "    </tr>\n",
       "    <tr>\n",
       "      <th>bathrooms_text</th>\n",
       "      <td>2 baths</td>\n",
       "      <td>1 bath</td>\n",
       "      <td>1 shared bath</td>\n",
       "    </tr>\n",
       "    <tr>\n",
       "      <th>bedrooms</th>\n",
       "      <td>2.0</td>\n",
       "      <td>3.0</td>\n",
       "      <td>1.0</td>\n",
       "    </tr>\n",
       "    <tr>\n",
       "      <th>beds</th>\n",
       "      <td>3.0</td>\n",
       "      <td>4.0</td>\n",
       "      <td>1.0</td>\n",
       "    </tr>\n",
       "    <tr>\n",
       "      <th>amenities</th>\n",
       "      <td>['Hot water', 'Stove', 'Body soap', 'Beach ess...</td>\n",
       "      <td>['Hot water', 'Stove', 'Smoke alarm', 'Refrige...</td>\n",
       "      <td>['Fire extinguisher', 'Pool', 'Lock on bedroom...</td>\n",
       "    </tr>\n",
       "    <tr>\n",
       "      <th>price</th>\n",
       "      <td>332.0</td>\n",
       "      <td>265.0</td>\n",
       "      <td>90.0</td>\n",
       "    </tr>\n",
       "    <tr>\n",
       "      <th>minimum_nights</th>\n",
       "      <td>3</td>\n",
       "      <td>2</td>\n",
       "      <td>1</td>\n",
       "    </tr>\n",
       "    <tr>\n",
       "      <th>maximum_nights</th>\n",
       "      <td>1125</td>\n",
       "      <td>31</td>\n",
       "      <td>7</td>\n",
       "    </tr>\n",
       "    <tr>\n",
       "      <th>review_scores_rating</th>\n",
       "      <td>80.0</td>\n",
       "      <td>97.0</td>\n",
       "      <td>NaN</td>\n",
       "    </tr>\n",
       "    <tr>\n",
       "      <th>instant_bookable</th>\n",
       "      <td>True</td>\n",
       "      <td>True</td>\n",
       "      <td>True</td>\n",
       "    </tr>\n",
       "    <tr>\n",
       "      <th>reviews_per_month</th>\n",
       "      <td>1.33</td>\n",
       "      <td>2.64</td>\n",
       "      <td>NaN</td>\n",
       "    </tr>\n",
       "    <tr>\n",
       "      <th>host_in_SD</th>\n",
       "      <td>True</td>\n",
       "      <td>False</td>\n",
       "      <td>True</td>\n",
       "    </tr>\n",
       "  </tbody>\n",
       "</table>\n",
       "</div>"
      ],
      "text/plain": [
       "                                                                     4252  \\\n",
       "id                                                               26865491   \n",
       "description                                                          True   \n",
       "neighborhood_overview                                                True   \n",
       "host_id                                                         147988535   \n",
       "host_about                                                           True   \n",
       "host_response_time                                         within an hour   \n",
       "host_response_rate                                                   100%   \n",
       "host_acceptance_rate                                                 100%   \n",
       "host_is_superhost                                                   False   \n",
       "host_listings_count                                                   1.0   \n",
       "host_has_profile_pic                                                 True   \n",
       "host_identity_verified                                              False   \n",
       "neighbourhood                                               Pacific Beach   \n",
       "latitude                                                         32.79656   \n",
       "longitude                                                      -117.25743   \n",
       "property_type                                                 condominium   \n",
       "room_type                                                 Entire home/apt   \n",
       "accommodates                                                            5   \n",
       "bathrooms_text                                                    2 baths   \n",
       "bedrooms                                                              2.0   \n",
       "beds                                                                  3.0   \n",
       "amenities               ['Hot water', 'Stove', 'Body soap', 'Beach ess...   \n",
       "price                                                               332.0   \n",
       "minimum_nights                                                          3   \n",
       "maximum_nights                                                       1125   \n",
       "review_scores_rating                                                 80.0   \n",
       "instant_bookable                                                     True   \n",
       "reviews_per_month                                                    1.33   \n",
       "host_in_SD                                                           True   \n",
       "\n",
       "                                                                     5638  \\\n",
       "id                                                               35578022   \n",
       "description                                                          True   \n",
       "neighborhood_overview                                                True   \n",
       "host_id                                                          53631296   \n",
       "host_about                                                           True   \n",
       "host_response_time                                         within an hour   \n",
       "host_response_rate                                                   100%   \n",
       "host_acceptance_rate                                                  98%   \n",
       "host_is_superhost                                                    True   \n",
       "host_listings_count                                                   8.0   \n",
       "host_has_profile_pic                                                 True   \n",
       "host_identity_verified                                               True   \n",
       "neighbourhood                                                 Loma Portal   \n",
       "latitude                                                         32.74162   \n",
       "longitude                                                      -117.23195   \n",
       "property_type                                                   townhouse   \n",
       "room_type                                                 Entire home/apt   \n",
       "accommodates                                                            8   \n",
       "bathrooms_text                                                     1 bath   \n",
       "bedrooms                                                              3.0   \n",
       "beds                                                                  4.0   \n",
       "amenities               ['Hot water', 'Stove', 'Smoke alarm', 'Refrige...   \n",
       "price                                                               265.0   \n",
       "minimum_nights                                                          2   \n",
       "maximum_nights                                                         31   \n",
       "review_scores_rating                                                 97.0   \n",
       "instant_bookable                                                     True   \n",
       "reviews_per_month                                                    2.64   \n",
       "host_in_SD                                                          False   \n",
       "\n",
       "                                                                     4649  \n",
       "id                                                               29649973  \n",
       "description                                                          True  \n",
       "neighborhood_overview                                               False  \n",
       "host_id                                                         223166063  \n",
       "host_about                                                          False  \n",
       "host_response_time                                                    NaN  \n",
       "host_response_rate                                                    NaN  \n",
       "host_acceptance_rate                                                   0%  \n",
       "host_is_superhost                                                   False  \n",
       "host_listings_count                                                   1.0  \n",
       "host_has_profile_pic                                                False  \n",
       "host_identity_verified                                               True  \n",
       "neighbourhood                                             University City  \n",
       "latitude                                                         32.85478  \n",
       "longitude                                                      -117.20442  \n",
       "property_type                                                   apartment  \n",
       "room_type                                                    Private room  \n",
       "accommodates                                                            2  \n",
       "bathrooms_text                                              1 shared bath  \n",
       "bedrooms                                                              1.0  \n",
       "beds                                                                  1.0  \n",
       "amenities               ['Fire extinguisher', 'Pool', 'Lock on bedroom...  \n",
       "price                                                                90.0  \n",
       "minimum_nights                                                          1  \n",
       "maximum_nights                                                          7  \n",
       "review_scores_rating                                                  NaN  \n",
       "instant_bookable                                                     True  \n",
       "reviews_per_month                                                     NaN  \n",
       "host_in_SD                                                           True  "
      ]
     },
     "execution_count": 5,
     "metadata": {},
     "output_type": "execute_result"
    }
   ],
   "source": [
    "data.sample(3).T"
   ]
  },
  {
   "cell_type": "markdown",
   "metadata": {},
   "source": [
    "## Missing values"
   ]
  },
  {
   "cell_type": "code",
   "execution_count": 6,
   "metadata": {},
   "outputs": [
    {
     "data": {
      "text/html": [
       "<div>\n",
       "<style scoped>\n",
       "    .dataframe tbody tr th:only-of-type {\n",
       "        vertical-align: middle;\n",
       "    }\n",
       "\n",
       "    .dataframe tbody tr th {\n",
       "        vertical-align: top;\n",
       "    }\n",
       "\n",
       "    .dataframe thead th {\n",
       "        text-align: right;\n",
       "    }\n",
       "</style>\n",
       "<table border=\"1\" class=\"dataframe\">\n",
       "  <thead>\n",
       "    <tr style=\"text-align: right;\">\n",
       "      <th></th>\n",
       "      <th>count</th>\n",
       "      <th>%</th>\n",
       "    </tr>\n",
       "  </thead>\n",
       "  <tbody>\n",
       "    <tr>\n",
       "      <th>review_scores_rating</th>\n",
       "      <td>1459</td>\n",
       "      <td>15.732154</td>\n",
       "    </tr>\n",
       "    <tr>\n",
       "      <th>reviews_per_month</th>\n",
       "      <td>1416</td>\n",
       "      <td>15.268493</td>\n",
       "    </tr>\n",
       "    <tr>\n",
       "      <th>host_response_time</th>\n",
       "      <td>1128</td>\n",
       "      <td>12.163036</td>\n",
       "    </tr>\n",
       "    <tr>\n",
       "      <th>host_response_rate</th>\n",
       "      <td>1128</td>\n",
       "      <td>12.163036</td>\n",
       "    </tr>\n",
       "    <tr>\n",
       "      <th>bedrooms</th>\n",
       "      <td>985</td>\n",
       "      <td>10.621091</td>\n",
       "    </tr>\n",
       "    <tr>\n",
       "      <th>host_acceptance_rate</th>\n",
       "      <td>617</td>\n",
       "      <td>6.653008</td>\n",
       "    </tr>\n",
       "    <tr>\n",
       "      <th>beds</th>\n",
       "      <td>39</td>\n",
       "      <td>0.420531</td>\n",
       "    </tr>\n",
       "    <tr>\n",
       "      <th>bathrooms_text</th>\n",
       "      <td>6</td>\n",
       "      <td>0.064697</td>\n",
       "    </tr>\n",
       "  </tbody>\n",
       "</table>\n",
       "</div>"
      ],
      "text/plain": [
       "                      count          %\n",
       "review_scores_rating   1459  15.732154\n",
       "reviews_per_month      1416  15.268493\n",
       "host_response_time     1128  12.163036\n",
       "host_response_rate     1128  12.163036\n",
       "bedrooms                985  10.621091\n",
       "host_acceptance_rate    617   6.653008\n",
       "beds                     39   0.420531\n",
       "bathrooms_text            6   0.064697"
      ]
     },
     "execution_count": 6,
     "metadata": {},
     "output_type": "execute_result"
    }
   ],
   "source": [
    "#Count the number of missing values in each column as well as the percentages\n",
    "missing = pd.concat([data.isnull().sum(), 100 * data.isnull().mean()], axis=1)\n",
    "missing.columns=[\"count\", \"%\"]\n",
    "missing = missing[missing['%']!=0]\n",
    "missing.sort_values(by='%', ascending =False)"
   ]
  },
  {
   "cell_type": "code",
   "execution_count": 7,
   "metadata": {
    "scrolled": false
   },
   "outputs": [
    {
     "data": {
      "text/html": [
       "<div>\n",
       "<style scoped>\n",
       "    .dataframe tbody tr th:only-of-type {\n",
       "        vertical-align: middle;\n",
       "    }\n",
       "\n",
       "    .dataframe tbody tr th {\n",
       "        vertical-align: top;\n",
       "    }\n",
       "\n",
       "    .dataframe thead th {\n",
       "        text-align: right;\n",
       "    }\n",
       "</style>\n",
       "<table border=\"1\" class=\"dataframe\">\n",
       "  <thead>\n",
       "    <tr style=\"text-align: right;\">\n",
       "      <th></th>\n",
       "      <th>id</th>\n",
       "      <th>description</th>\n",
       "      <th>neighborhood_overview</th>\n",
       "      <th>host_id</th>\n",
       "      <th>host_about</th>\n",
       "      <th>host_response_time</th>\n",
       "      <th>host_response_rate</th>\n",
       "      <th>host_acceptance_rate</th>\n",
       "      <th>host_is_superhost</th>\n",
       "      <th>host_listings_count</th>\n",
       "      <th>...</th>\n",
       "      <th>bedrooms</th>\n",
       "      <th>beds</th>\n",
       "      <th>amenities</th>\n",
       "      <th>price</th>\n",
       "      <th>minimum_nights</th>\n",
       "      <th>maximum_nights</th>\n",
       "      <th>review_scores_rating</th>\n",
       "      <th>instant_bookable</th>\n",
       "      <th>reviews_per_month</th>\n",
       "      <th>host_in_SD</th>\n",
       "    </tr>\n",
       "  </thead>\n",
       "  <tbody>\n",
       "    <tr>\n",
       "      <th>140</th>\n",
       "      <td>847669</td>\n",
       "      <td>True</td>\n",
       "      <td>False</td>\n",
       "      <td>4425833</td>\n",
       "      <td>True</td>\n",
       "      <td>NaN</td>\n",
       "      <td>NaN</td>\n",
       "      <td>NaN</td>\n",
       "      <td>False</td>\n",
       "      <td>1.0</td>\n",
       "      <td>...</td>\n",
       "      <td>1.0</td>\n",
       "      <td>1.0</td>\n",
       "      <td>['Wifi', 'Dryer', 'Breakfast', 'Heating', 'Kit...</td>\n",
       "      <td>74.0</td>\n",
       "      <td>1</td>\n",
       "      <td>21</td>\n",
       "      <td>NaN</td>\n",
       "      <td>False</td>\n",
       "      <td>0.03</td>\n",
       "      <td>True</td>\n",
       "    </tr>\n",
       "    <tr>\n",
       "      <th>704</th>\n",
       "      <td>5136416</td>\n",
       "      <td>True</td>\n",
       "      <td>False</td>\n",
       "      <td>4506228</td>\n",
       "      <td>False</td>\n",
       "      <td>NaN</td>\n",
       "      <td>NaN</td>\n",
       "      <td>NaN</td>\n",
       "      <td>False</td>\n",
       "      <td>1.0</td>\n",
       "      <td>...</td>\n",
       "      <td>2.0</td>\n",
       "      <td>2.0</td>\n",
       "      <td>['Fire extinguisher', 'Essentials', 'Indoor fi...</td>\n",
       "      <td>400.0</td>\n",
       "      <td>3</td>\n",
       "      <td>365</td>\n",
       "      <td>NaN</td>\n",
       "      <td>True</td>\n",
       "      <td>0.03</td>\n",
       "      <td>False</td>\n",
       "    </tr>\n",
       "    <tr>\n",
       "      <th>1237</th>\n",
       "      <td>9627161</td>\n",
       "      <td>True</td>\n",
       "      <td>True</td>\n",
       "      <td>2503251</td>\n",
       "      <td>True</td>\n",
       "      <td>within an hour</td>\n",
       "      <td>97%</td>\n",
       "      <td>94%</td>\n",
       "      <td>False</td>\n",
       "      <td>17.0</td>\n",
       "      <td>...</td>\n",
       "      <td>1.0</td>\n",
       "      <td>2.0</td>\n",
       "      <td>['Hot water', 'High chair', 'Stove', 'Beach es...</td>\n",
       "      <td>22.0</td>\n",
       "      <td>1</td>\n",
       "      <td>1125</td>\n",
       "      <td>NaN</td>\n",
       "      <td>False</td>\n",
       "      <td>0.04</td>\n",
       "      <td>False</td>\n",
       "    </tr>\n",
       "    <tr>\n",
       "      <th>1562</th>\n",
       "      <td>12588363</td>\n",
       "      <td>True</td>\n",
       "      <td>False</td>\n",
       "      <td>68280440</td>\n",
       "      <td>True</td>\n",
       "      <td>NaN</td>\n",
       "      <td>NaN</td>\n",
       "      <td>NaN</td>\n",
       "      <td>False</td>\n",
       "      <td>1.0</td>\n",
       "      <td>...</td>\n",
       "      <td>1.0</td>\n",
       "      <td>1.0</td>\n",
       "      <td>['Hot tub', 'Wifi', 'Dryer', 'Heating', 'Free ...</td>\n",
       "      <td>150.0</td>\n",
       "      <td>1</td>\n",
       "      <td>1125</td>\n",
       "      <td>NaN</td>\n",
       "      <td>False</td>\n",
       "      <td>0.03</td>\n",
       "      <td>False</td>\n",
       "    </tr>\n",
       "    <tr>\n",
       "      <th>1700</th>\n",
       "      <td>13332007</td>\n",
       "      <td>True</td>\n",
       "      <td>True</td>\n",
       "      <td>75452099</td>\n",
       "      <td>True</td>\n",
       "      <td>NaN</td>\n",
       "      <td>NaN</td>\n",
       "      <td>NaN</td>\n",
       "      <td>False</td>\n",
       "      <td>1.0</td>\n",
       "      <td>...</td>\n",
       "      <td>1.0</td>\n",
       "      <td>1.0</td>\n",
       "      <td>['First aid kit', 'Hangers', 'Dryer', 'TV', 'H...</td>\n",
       "      <td>226.0</td>\n",
       "      <td>2</td>\n",
       "      <td>30</td>\n",
       "      <td>NaN</td>\n",
       "      <td>False</td>\n",
       "      <td>0.02</td>\n",
       "      <td>False</td>\n",
       "    </tr>\n",
       "  </tbody>\n",
       "</table>\n",
       "<p>5 rows × 29 columns</p>\n",
       "</div>"
      ],
      "text/plain": [
       "            id  description  neighborhood_overview   host_id  host_about  \\\n",
       "140     847669         True                  False   4425833        True   \n",
       "704    5136416         True                  False   4506228       False   \n",
       "1237   9627161         True                   True   2503251        True   \n",
       "1562  12588363         True                  False  68280440        True   \n",
       "1700  13332007         True                   True  75452099        True   \n",
       "\n",
       "     host_response_time host_response_rate host_acceptance_rate  \\\n",
       "140                 NaN                NaN                  NaN   \n",
       "704                 NaN                NaN                  NaN   \n",
       "1237     within an hour                97%                  94%   \n",
       "1562                NaN                NaN                  NaN   \n",
       "1700                NaN                NaN                  NaN   \n",
       "\n",
       "      host_is_superhost  host_listings_count  ...  bedrooms  beds  \\\n",
       "140               False                  1.0  ...       1.0   1.0   \n",
       "704               False                  1.0  ...       2.0   2.0   \n",
       "1237              False                 17.0  ...       1.0   2.0   \n",
       "1562              False                  1.0  ...       1.0   1.0   \n",
       "1700              False                  1.0  ...       1.0   1.0   \n",
       "\n",
       "                                              amenities  price  \\\n",
       "140   ['Wifi', 'Dryer', 'Breakfast', 'Heating', 'Kit...   74.0   \n",
       "704   ['Fire extinguisher', 'Essentials', 'Indoor fi...  400.0   \n",
       "1237  ['Hot water', 'High chair', 'Stove', 'Beach es...   22.0   \n",
       "1562  ['Hot tub', 'Wifi', 'Dryer', 'Heating', 'Free ...  150.0   \n",
       "1700  ['First aid kit', 'Hangers', 'Dryer', 'TV', 'H...  226.0   \n",
       "\n",
       "      minimum_nights maximum_nights review_scores_rating  instant_bookable  \\\n",
       "140                1             21                  NaN             False   \n",
       "704                3            365                  NaN              True   \n",
       "1237               1           1125                  NaN             False   \n",
       "1562               1           1125                  NaN             False   \n",
       "1700               2             30                  NaN             False   \n",
       "\n",
       "     reviews_per_month  host_in_SD  \n",
       "140               0.03        True  \n",
       "704               0.03       False  \n",
       "1237              0.04       False  \n",
       "1562              0.03       False  \n",
       "1700              0.02       False  \n",
       "\n",
       "[5 rows x 29 columns]"
      ]
     },
     "execution_count": 7,
     "metadata": {},
     "output_type": "execute_result"
    }
   ],
   "source": [
    "#find rows where review_scores_rating is missing but reviews_per_month is not missing\n",
    "data[(data['review_scores_rating'].isnull()==True) \n",
    "     & (data['reviews_per_month'].isnull()==False)].head()"
   ]
  },
  {
   "cell_type": "markdown",
   "metadata": {},
   "source": [
    "It seems like the explaination of why these values are missing is either these listings has no reviews at all or no reviews recently. It might be safe to to fill these missing values with 0"
   ]
  },
  {
   "cell_type": "code",
   "execution_count": 8,
   "metadata": {},
   "outputs": [],
   "source": [
    "data.fillna(value={'review_scores_rating':0,'reviews_per_month':0},inplace=True)"
   ]
  },
  {
   "cell_type": "code",
   "execution_count": 9,
   "metadata": {},
   "outputs": [],
   "source": [
    "#similarly, zero(0) seems to be a reasonable fill-in for other columns as well\n",
    "values = {\"host_response_rate\":0,'bedrooms':0,\n",
    "          'host_acceptance_rate':0,\"beds\":0}\n",
    "data.fillna(value=values, inplace=True)"
   ]
  },
  {
   "cell_type": "code",
   "execution_count": 10,
   "metadata": {},
   "outputs": [],
   "source": [
    "#replace missing data in host_response_time as missing\n",
    "#these columns will be catergorized later\n",
    "data.fillna(value={\"host_response_time\":0}, inplace=True)"
   ]
  },
  {
   "cell_type": "code",
   "execution_count": 11,
   "metadata": {},
   "outputs": [],
   "source": [
    "#there are only 6 rows that doesnt have bath_text value.\n",
    "#It shouldn't affect the performance too much by dropping them\n",
    "data.dropna(subset=['bathrooms_text'],inplace=True)"
   ]
  },
  {
   "cell_type": "code",
   "execution_count": 12,
   "metadata": {},
   "outputs": [
    {
     "data": {
      "text/html": [
       "<div>\n",
       "<style scoped>\n",
       "    .dataframe tbody tr th:only-of-type {\n",
       "        vertical-align: middle;\n",
       "    }\n",
       "\n",
       "    .dataframe tbody tr th {\n",
       "        vertical-align: top;\n",
       "    }\n",
       "\n",
       "    .dataframe thead th {\n",
       "        text-align: right;\n",
       "    }\n",
       "</style>\n",
       "<table border=\"1\" class=\"dataframe\">\n",
       "  <thead>\n",
       "    <tr style=\"text-align: right;\">\n",
       "      <th></th>\n",
       "      <th>count</th>\n",
       "      <th>%</th>\n",
       "    </tr>\n",
       "  </thead>\n",
       "  <tbody>\n",
       "  </tbody>\n",
       "</table>\n",
       "</div>"
      ],
      "text/plain": [
       "Empty DataFrame\n",
       "Columns: [count, %]\n",
       "Index: []"
      ]
     },
     "execution_count": 12,
     "metadata": {},
     "output_type": "execute_result"
    }
   ],
   "source": [
    "#Check to see if there is any more missing data\n",
    "missing = pd.concat([data.isnull().sum(), 100 * data.isnull().mean()], axis=1)\n",
    "missing.columns=[\"count\", \"%\"]\n",
    "missing = missing[missing['%']!=0]\n",
    "missing.sort_values(by='%', ascending =False)"
   ]
  },
  {
   "cell_type": "markdown",
   "metadata": {},
   "source": [
    "## Columns dtypes"
   ]
  },
  {
   "cell_type": "code",
   "execution_count": 13,
   "metadata": {},
   "outputs": [
    {
     "name": "stdout",
     "output_type": "stream",
     "text": [
      "<class 'pandas.core.frame.DataFrame'>\n",
      "Int64Index: 9268 entries, 0 to 9273\n",
      "Data columns (total 29 columns):\n",
      " #   Column                  Non-Null Count  Dtype  \n",
      "---  ------                  --------------  -----  \n",
      " 0   id                      9268 non-null   int64  \n",
      " 1   description             9268 non-null   bool   \n",
      " 2   neighborhood_overview   9268 non-null   bool   \n",
      " 3   host_id                 9268 non-null   int64  \n",
      " 4   host_about              9268 non-null   bool   \n",
      " 5   host_response_time      9268 non-null   object \n",
      " 6   host_response_rate      9268 non-null   object \n",
      " 7   host_acceptance_rate    9268 non-null   object \n",
      " 8   host_is_superhost       9268 non-null   bool   \n",
      " 9   host_listings_count     9268 non-null   float64\n",
      " 10  host_has_profile_pic    9268 non-null   bool   \n",
      " 11  host_identity_verified  9268 non-null   bool   \n",
      " 12  neighbourhood           9268 non-null   object \n",
      " 13  latitude                9268 non-null   float64\n",
      " 14  longitude               9268 non-null   float64\n",
      " 15  property_type           9268 non-null   object \n",
      " 16  room_type               9268 non-null   object \n",
      " 17  accommodates            9268 non-null   int64  \n",
      " 18  bathrooms_text          9268 non-null   object \n",
      " 19  bedrooms                9268 non-null   float64\n",
      " 20  beds                    9268 non-null   float64\n",
      " 21  amenities               9268 non-null   object \n",
      " 22  price                   9268 non-null   float64\n",
      " 23  minimum_nights          9268 non-null   int64  \n",
      " 24  maximum_nights          9268 non-null   int64  \n",
      " 25  review_scores_rating    9268 non-null   float64\n",
      " 26  instant_bookable        9268 non-null   bool   \n",
      " 27  reviews_per_month       9268 non-null   float64\n",
      " 28  host_in_SD              9268 non-null   bool   \n",
      "dtypes: bool(8), float64(8), int64(5), object(8)\n",
      "memory usage: 1.6+ MB\n"
     ]
    }
   ],
   "source": [
    "data.info()"
   ]
  },
  {
   "cell_type": "code",
   "execution_count": 14,
   "metadata": {},
   "outputs": [
    {
     "data": {
      "text/html": [
       "<div>\n",
       "<style scoped>\n",
       "    .dataframe tbody tr th:only-of-type {\n",
       "        vertical-align: middle;\n",
       "    }\n",
       "\n",
       "    .dataframe tbody tr th {\n",
       "        vertical-align: top;\n",
       "    }\n",
       "\n",
       "    .dataframe thead th {\n",
       "        text-align: right;\n",
       "    }\n",
       "</style>\n",
       "<table border=\"1\" class=\"dataframe\">\n",
       "  <thead>\n",
       "    <tr style=\"text-align: right;\">\n",
       "      <th></th>\n",
       "      <th>host_response_rate</th>\n",
       "      <th>host_acceptance_rate</th>\n",
       "    </tr>\n",
       "  </thead>\n",
       "  <tbody>\n",
       "    <tr>\n",
       "      <th>0</th>\n",
       "      <td>100%</td>\n",
       "      <td>100%</td>\n",
       "    </tr>\n",
       "    <tr>\n",
       "      <th>1</th>\n",
       "      <td>100%</td>\n",
       "      <td>50%</td>\n",
       "    </tr>\n",
       "    <tr>\n",
       "      <th>2</th>\n",
       "      <td>0</td>\n",
       "      <td>86%</td>\n",
       "    </tr>\n",
       "    <tr>\n",
       "      <th>3</th>\n",
       "      <td>100%</td>\n",
       "      <td>75%</td>\n",
       "    </tr>\n",
       "    <tr>\n",
       "      <th>4</th>\n",
       "      <td>100%</td>\n",
       "      <td>96%</td>\n",
       "    </tr>\n",
       "  </tbody>\n",
       "</table>\n",
       "</div>"
      ],
      "text/plain": [
       "  host_response_rate host_acceptance_rate\n",
       "0               100%                 100%\n",
       "1               100%                  50%\n",
       "2                  0                  86%\n",
       "3               100%                  75%\n",
       "4               100%                  96%"
      ]
     },
     "execution_count": 14,
     "metadata": {},
     "output_type": "execute_result"
    }
   ],
   "source": [
    "#host_response_rate and host_acceptance_rate column dtypes is not correct\n",
    "#because the percentage symbol\n",
    "data[['host_response_rate','host_acceptance_rate']].head()"
   ]
  },
  {
   "cell_type": "code",
   "execution_count": 15,
   "metadata": {},
   "outputs": [],
   "source": [
    "data['host_response_rate'] = data['host_response_rate'].str.replace(r'%',r'.0').astype('float')/100\n",
    "data['host_acceptance_rate'] = data['host_acceptance_rate'].str.replace(r'%',r'.0').astype('float')/100"
   ]
  },
  {
   "cell_type": "code",
   "execution_count": 16,
   "metadata": {},
   "outputs": [
    {
     "data": {
      "text/plain": [
       "host_response_rate      float64\n",
       "host_acceptance_rate    float64\n",
       "dtype: object"
      ]
     },
     "execution_count": 16,
     "metadata": {},
     "output_type": "execute_result"
    }
   ],
   "source": [
    "data[['host_response_rate','host_acceptance_rate']].dtypes"
   ]
  },
  {
   "cell_type": "markdown",
   "metadata": {},
   "source": [
    "## Categorical features"
   ]
  },
  {
   "cell_type": "code",
   "execution_count": 17,
   "metadata": {},
   "outputs": [
    {
     "data": {
      "text/plain": [
       "Index(['host_response_time', 'neighbourhood', 'property_type', 'room_type',\n",
       "       'bathrooms_text', 'amenities'],\n",
       "      dtype='object')"
      ]
     },
     "execution_count": 17,
     "metadata": {},
     "output_type": "execute_result"
    }
   ],
   "source": [
    "data.select_dtypes(include='object').columns"
   ]
  },
  {
   "cell_type": "markdown",
   "metadata": {},
   "source": [
    "### Host_response_time"
   ]
  },
  {
   "cell_type": "code",
   "execution_count": 18,
   "metadata": {},
   "outputs": [
    {
     "data": {
      "text/plain": [
       "array(['within a few hours', 'within an hour', 0, 'within a day',\n",
       "       'a few days or more'], dtype=object)"
      ]
     },
     "execution_count": 18,
     "metadata": {},
     "output_type": "execute_result"
    }
   ],
   "source": [
    "host_response_time = data['host_response_time']\n",
    "host_response_time.unique()"
   ]
  },
  {
   "cell_type": "code",
   "execution_count": 19,
   "metadata": {
    "scrolled": false
   },
   "outputs": [
    {
     "data": {
      "text/html": [
       "<div>\n",
       "<style scoped>\n",
       "    .dataframe tbody tr th:only-of-type {\n",
       "        vertical-align: middle;\n",
       "    }\n",
       "\n",
       "    .dataframe tbody tr th {\n",
       "        vertical-align: top;\n",
       "    }\n",
       "\n",
       "    .dataframe thead th {\n",
       "        text-align: right;\n",
       "    }\n",
       "</style>\n",
       "<table border=\"1\" class=\"dataframe\">\n",
       "  <thead>\n",
       "    <tr style=\"text-align: right;\">\n",
       "      <th></th>\n",
       "      <th>a few days or more</th>\n",
       "      <th>within a day</th>\n",
       "      <th>within a few hours</th>\n",
       "      <th>within an hour</th>\n",
       "    </tr>\n",
       "  </thead>\n",
       "  <tbody>\n",
       "    <tr>\n",
       "      <th>0</th>\n",
       "      <td>0</td>\n",
       "      <td>0</td>\n",
       "      <td>1</td>\n",
       "      <td>0</td>\n",
       "    </tr>\n",
       "    <tr>\n",
       "      <th>1</th>\n",
       "      <td>0</td>\n",
       "      <td>0</td>\n",
       "      <td>0</td>\n",
       "      <td>1</td>\n",
       "    </tr>\n",
       "    <tr>\n",
       "      <th>2</th>\n",
       "      <td>0</td>\n",
       "      <td>0</td>\n",
       "      <td>0</td>\n",
       "      <td>0</td>\n",
       "    </tr>\n",
       "    <tr>\n",
       "      <th>3</th>\n",
       "      <td>0</td>\n",
       "      <td>0</td>\n",
       "      <td>0</td>\n",
       "      <td>1</td>\n",
       "    </tr>\n",
       "    <tr>\n",
       "      <th>4</th>\n",
       "      <td>0</td>\n",
       "      <td>0</td>\n",
       "      <td>0</td>\n",
       "      <td>1</td>\n",
       "    </tr>\n",
       "  </tbody>\n",
       "</table>\n",
       "</div>"
      ],
      "text/plain": [
       "   a few days or more  within a day  within a few hours  within an hour\n",
       "0                   0             0                   1               0\n",
       "1                   0             0                   0               1\n",
       "2                   0             0                   0               0\n",
       "3                   0             0                   0               1\n",
       "4                   0             0                   0               1"
      ]
     },
     "execution_count": 19,
     "metadata": {},
     "output_type": "execute_result"
    }
   ],
   "source": [
    "host_response_time = pd.get_dummies(host_response_time, drop_first=True)\n",
    "host_response_time.head()"
   ]
  },
  {
   "cell_type": "code",
   "execution_count": 20,
   "metadata": {},
   "outputs": [],
   "source": [
    "data.drop(columns=['host_response_time'],inplace=True)"
   ]
  },
  {
   "cell_type": "markdown",
   "metadata": {},
   "source": [
    "### Bathrooms_text"
   ]
  },
  {
   "cell_type": "code",
   "execution_count": 21,
   "metadata": {},
   "outputs": [
    {
     "data": {
      "text/plain": [
       "array(['1 bath', '2 baths', '1 shared bath', '1 private bath',\n",
       "       '2.5 baths', '1.5 baths', '3 baths', '4 baths', '3.5 baths',\n",
       "       '2 shared baths', 'Shared half-bath', '3 shared baths',\n",
       "       'Half-bath', '5.5 baths', '4.5 baths', '1.5 shared baths',\n",
       "       '5 baths', '2.5 shared baths', '8 baths', '0 baths',\n",
       "       '0 shared baths', '6.5 baths', '6 baths', '7 baths', '9 baths',\n",
       "       '27.5 baths', '7.5 baths', '4.5 shared baths', '8 shared baths',\n",
       "       '4 shared baths', '3.5 shared baths', '10 baths', '6 shared baths',\n",
       "       '11 baths'], dtype=object)"
      ]
     },
     "execution_count": 21,
     "metadata": {},
     "output_type": "execute_result"
    }
   ],
   "source": [
    "data['bathrooms_text'].unique()"
   ]
  },
  {
   "cell_type": "markdown",
   "metadata": {},
   "source": [
    "Baths can be separate into (private, shared, unknown) and by the number (1, 1.5 , 2, ...)"
   ]
  },
  {
   "cell_type": "code",
   "execution_count": 22,
   "metadata": {},
   "outputs": [
    {
     "data": {
      "text/html": [
       "<div>\n",
       "<style scoped>\n",
       "    .dataframe tbody tr th:only-of-type {\n",
       "        vertical-align: middle;\n",
       "    }\n",
       "\n",
       "    .dataframe tbody tr th {\n",
       "        vertical-align: top;\n",
       "    }\n",
       "\n",
       "    .dataframe thead th {\n",
       "        text-align: right;\n",
       "    }\n",
       "</style>\n",
       "<table border=\"1\" class=\"dataframe\">\n",
       "  <thead>\n",
       "    <tr style=\"text-align: right;\">\n",
       "      <th></th>\n",
       "      <th>bath_count</th>\n",
       "      <th>bath_shared</th>\n",
       "    </tr>\n",
       "  </thead>\n",
       "  <tbody>\n",
       "    <tr>\n",
       "      <th>0</th>\n",
       "      <td>1 bath</td>\n",
       "      <td>NaN</td>\n",
       "    </tr>\n",
       "    <tr>\n",
       "      <th>1</th>\n",
       "      <td>2 baths</td>\n",
       "      <td>NaN</td>\n",
       "    </tr>\n",
       "    <tr>\n",
       "      <th>2</th>\n",
       "      <td>1 shared bath</td>\n",
       "      <td>NaN</td>\n",
       "    </tr>\n",
       "    <tr>\n",
       "      <th>3</th>\n",
       "      <td>1 bath</td>\n",
       "      <td>NaN</td>\n",
       "    </tr>\n",
       "    <tr>\n",
       "      <th>4</th>\n",
       "      <td>1 bath</td>\n",
       "      <td>NaN</td>\n",
       "    </tr>\n",
       "  </tbody>\n",
       "</table>\n",
       "</div>"
      ],
      "text/plain": [
       "      bath_count  bath_shared\n",
       "0         1 bath          NaN\n",
       "1        2 baths          NaN\n",
       "2  1 shared bath          NaN\n",
       "3         1 bath          NaN\n",
       "4         1 bath          NaN"
      ]
     },
     "execution_count": 22,
     "metadata": {},
     "output_type": "execute_result"
    }
   ],
   "source": [
    "#create bathrooms dataframe\n",
    "import copy\n",
    "bathrooms = pd.DataFrame(copy.deepcopy(data['bathrooms_text']))\n",
    "bathrooms = bathrooms.rename({'bathrooms_text':\"bath_count\"},axis=1)\n",
    "bathrooms = bathrooms.assign(bath_shared = np.nan)\n",
    "bathrooms.head()"
   ]
  },
  {
   "cell_type": "code",
   "execution_count": 23,
   "metadata": {},
   "outputs": [],
   "source": [
    "bathrooms['bath_count'] = bathrooms['bath_count'].replace('Shared half-bath','0.5 shared bath')\n",
    "bathrooms['bath_count'] = bathrooms['bath_count'].replace('Half-bath','0.5 bath')"
   ]
  },
  {
   "cell_type": "code",
   "execution_count": 24,
   "metadata": {},
   "outputs": [],
   "source": [
    "#extract private/shared baths\n",
    "for idx,val in enumerate(bathrooms.bath_count):\n",
    "    if 'shared' in val:\n",
    "        bathrooms.iloc[idx,1]=1\n",
    "    else:\n",
    "        bathrooms.iloc[idx,1]=0"
   ]
  },
  {
   "cell_type": "code",
   "execution_count": 25,
   "metadata": {},
   "outputs": [
    {
     "data": {
      "text/html": [
       "<div>\n",
       "<style scoped>\n",
       "    .dataframe tbody tr th:only-of-type {\n",
       "        vertical-align: middle;\n",
       "    }\n",
       "\n",
       "    .dataframe tbody tr th {\n",
       "        vertical-align: top;\n",
       "    }\n",
       "\n",
       "    .dataframe thead th {\n",
       "        text-align: right;\n",
       "    }\n",
       "</style>\n",
       "<table border=\"1\" class=\"dataframe\">\n",
       "  <thead>\n",
       "    <tr style=\"text-align: right;\">\n",
       "      <th></th>\n",
       "      <th>bath_count</th>\n",
       "      <th>bath_shared</th>\n",
       "    </tr>\n",
       "  </thead>\n",
       "  <tbody>\n",
       "    <tr>\n",
       "      <th>6280</th>\n",
       "      <td>1.0</td>\n",
       "      <td>0.0</td>\n",
       "    </tr>\n",
       "    <tr>\n",
       "      <th>5794</th>\n",
       "      <td>1.0</td>\n",
       "      <td>0.0</td>\n",
       "    </tr>\n",
       "    <tr>\n",
       "      <th>2947</th>\n",
       "      <td>2.0</td>\n",
       "      <td>1.0</td>\n",
       "    </tr>\n",
       "    <tr>\n",
       "      <th>5597</th>\n",
       "      <td>1.0</td>\n",
       "      <td>1.0</td>\n",
       "    </tr>\n",
       "    <tr>\n",
       "      <th>6157</th>\n",
       "      <td>1.0</td>\n",
       "      <td>0.0</td>\n",
       "    </tr>\n",
       "  </tbody>\n",
       "</table>\n",
       "</div>"
      ],
      "text/plain": [
       "      bath_count  bath_shared\n",
       "6280         1.0          0.0\n",
       "5794         1.0          0.0\n",
       "2947         2.0          1.0\n",
       "5597         1.0          1.0\n",
       "6157         1.0          0.0"
      ]
     },
     "execution_count": 25,
     "metadata": {},
     "output_type": "execute_result"
    }
   ],
   "source": [
    "#Extract number of bathrooms\n",
    "bathrooms.bath_count = bathrooms.bath_count.str.replace('baths','')\n",
    "bathrooms.bath_count = bathrooms.bath_count.str.replace('bath','')\n",
    "bathrooms.bath_count = bathrooms.bath_count.str.replace('shared','')\n",
    "bathrooms.bath_count = bathrooms.bath_count.str.replace('private','')\n",
    "bathrooms.bath_count = bathrooms.bath_count.str.replace(\" \", \"\")\n",
    "bathrooms.bath_count = bathrooms.bath_count.astype('float')\n",
    "bathrooms.sample(5)"
   ]
  },
  {
   "cell_type": "code",
   "execution_count": 26,
   "metadata": {},
   "outputs": [
    {
     "data": {
      "text/plain": [
       "array([ 1. ,  2. ,  2.5,  1.5,  3. ,  4. ,  3.5,  0.5,  5.5,  4.5,  5. ,\n",
       "        8. ,  0. ,  6.5,  6. ,  7. ,  9. , 27.5,  7.5, 10. , 11. ])"
      ]
     },
     "execution_count": 26,
     "metadata": {},
     "output_type": "execute_result"
    }
   ],
   "source": [
    "bathrooms.bath_count.unique()"
   ]
  },
  {
   "cell_type": "code",
   "execution_count": 27,
   "metadata": {},
   "outputs": [],
   "source": [
    "data.drop(columns=['bathrooms_text'],inplace=True)"
   ]
  },
  {
   "cell_type": "markdown",
   "metadata": {},
   "source": [
    "### Amenities"
   ]
  },
  {
   "cell_type": "code",
   "execution_count": 28,
   "metadata": {},
   "outputs": [],
   "source": [
    "#remembering from data wrangling notebook, convert amenities from string to list\n",
    "import ast\n",
    "amenities = []\n",
    "for i in data.amenities.index:\n",
    "    amenities.insert(i, ast.literal_eval(data.amenities[i]))\n",
    "data.amenities = amenities"
   ]
  },
  {
   "cell_type": "code",
   "execution_count": 29,
   "metadata": {},
   "outputs": [],
   "source": [
    "#refer to EDA for reasoning for selected amenities\n",
    "#create a list of all amenities options\n",
    "amen_cols=[]\n",
    "for elem in amenities:\n",
    "    amen_cols.extend(elem)"
   ]
  },
  {
   "cell_type": "code",
   "execution_count": 30,
   "metadata": {},
   "outputs": [],
   "source": [
    "#count different amenities\n",
    "from collections import Counter\n",
    "d = Counter(amen_cols)\n",
    "amen_count = pd.DataFrame.from_dict(d, orient='index')"
   ]
  },
  {
   "cell_type": "code",
   "execution_count": 31,
   "metadata": {},
   "outputs": [],
   "source": [
    "manual_amen = ['Essentials','Wifi','TV','Heating','Air conditioning','Iron',\n",
    "                 'Shampoo','Hair dryer','Breakfast','Dedicated workspace',\n",
    "                 'Indoor fireplace','Hangers','Clothing storage: closet',\n",
    "                 'Clothing storage: closet and dresser','Clothing storage: dresser and closet',\n",
    "                 'Private entrance','Smoke alarm','Carbon monoxide alarm','First aid kit',\n",
    "                 'Fire extinguisher','Lock on bedroom door','Hot tub','Kitchen','Pool','Gym',\n",
    "                 'Washer','Dryer','Free parking on premises','Free street parking','Long term stays allowed']"
   ]
  },
  {
   "cell_type": "code",
   "execution_count": 32,
   "metadata": {},
   "outputs": [
    {
     "data": {
      "text/plain": [
       "55"
      ]
     },
     "execution_count": 32,
     "metadata": {},
     "output_type": "execute_result"
    }
   ],
   "source": [
    "#selected amenities is a combination of most frequently occured amenities and selected amenities\n",
    "amen_count = amen_count.reset_index()\n",
    "amen_count = amen_count[amen_count[0]>1000]\n",
    "amen_set = set(list(amen_count['index']) + manual_amen)\n",
    "len(amen_set)"
   ]
  },
  {
   "cell_type": "code",
   "execution_count": 33,
   "metadata": {},
   "outputs": [
    {
     "data": {
      "text/plain": [
       "(9268, 55)"
      ]
     },
     "execution_count": 33,
     "metadata": {},
     "output_type": "execute_result"
    }
   ],
   "source": [
    "#create empty amenities dataframe with amenties as colum name and same index as listings\n",
    "amenities = pd.DataFrame(index=data.index,columns = amen_set)\n",
    "amenities.shape\n",
    "#amenities = amenities.fillna(0)"
   ]
  },
  {
   "cell_type": "code",
   "execution_count": 63,
   "metadata": {},
   "outputs": [],
   "source": [
    "#fill amenities dataframe with 1 for each ameniy that is available,0 otherwise\n",
    "for idx, val in enumerate(data.amenities):\n",
    "    for elem in val:\n",
    "        if elem in amen_set:\n",
    "            amenities.loc[idx,elem] = 1\n",
    "            if idx>9267:\n",
    "                print(idx)"
   ]
  },
  {
   "cell_type": "code",
   "execution_count": 65,
   "metadata": {},
   "outputs": [
    {
     "data": {
      "text/plain": [
       "(9274, 55)"
      ]
     },
     "execution_count": 65,
     "metadata": {},
     "output_type": "execute_result"
    }
   ],
   "source": [
    "amenities.shape"
   ]
  },
  {
   "cell_type": "code",
   "execution_count": 66,
   "metadata": {},
   "outputs": [
    {
     "data": {
      "text/html": [
       "<div>\n",
       "<style scoped>\n",
       "    .dataframe tbody tr th:only-of-type {\n",
       "        vertical-align: middle;\n",
       "    }\n",
       "\n",
       "    .dataframe tbody tr th {\n",
       "        vertical-align: top;\n",
       "    }\n",
       "\n",
       "    .dataframe thead th {\n",
       "        text-align: right;\n",
       "    }\n",
       "</style>\n",
       "<table border=\"1\" class=\"dataframe\">\n",
       "  <thead>\n",
       "    <tr style=\"text-align: right;\">\n",
       "      <th></th>\n",
       "      <th>Coffee maker</th>\n",
       "      <th>Washer</th>\n",
       "      <th>Private entrance</th>\n",
       "      <th>Bed linens</th>\n",
       "      <th>Luggage dropoff allowed</th>\n",
       "      <th>Clothing storage: closet and dresser</th>\n",
       "      <th>Oven</th>\n",
       "      <th>Free parking on premises</th>\n",
       "      <th>Wifi</th>\n",
       "      <th>TV</th>\n",
       "      <th>...</th>\n",
       "      <th>Dishes and silverware</th>\n",
       "      <th>Shower gel</th>\n",
       "      <th>Patio or balcony</th>\n",
       "      <th>Iron</th>\n",
       "      <th>First aid kit</th>\n",
       "      <th>Hot water</th>\n",
       "      <th>BBQ grill</th>\n",
       "      <th>Beach essentials</th>\n",
       "      <th>Indoor fireplace</th>\n",
       "      <th>Free street parking</th>\n",
       "    </tr>\n",
       "  </thead>\n",
       "  <tbody>\n",
       "    <tr>\n",
       "      <th>3508</th>\n",
       "      <td>1</td>\n",
       "      <td>1</td>\n",
       "      <td>NaN</td>\n",
       "      <td>1</td>\n",
       "      <td>NaN</td>\n",
       "      <td>NaN</td>\n",
       "      <td>NaN</td>\n",
       "      <td>1</td>\n",
       "      <td>1</td>\n",
       "      <td>1</td>\n",
       "      <td>...</td>\n",
       "      <td>1</td>\n",
       "      <td>NaN</td>\n",
       "      <td>1</td>\n",
       "      <td>1</td>\n",
       "      <td>1</td>\n",
       "      <td>1</td>\n",
       "      <td>NaN</td>\n",
       "      <td>NaN</td>\n",
       "      <td>NaN</td>\n",
       "      <td>1</td>\n",
       "    </tr>\n",
       "    <tr>\n",
       "      <th>8771</th>\n",
       "      <td>1</td>\n",
       "      <td>1</td>\n",
       "      <td>1</td>\n",
       "      <td>NaN</td>\n",
       "      <td>NaN</td>\n",
       "      <td>NaN</td>\n",
       "      <td>NaN</td>\n",
       "      <td>1</td>\n",
       "      <td>1</td>\n",
       "      <td>1</td>\n",
       "      <td>...</td>\n",
       "      <td>1</td>\n",
       "      <td>1</td>\n",
       "      <td>NaN</td>\n",
       "      <td>1</td>\n",
       "      <td>1</td>\n",
       "      <td>1</td>\n",
       "      <td>NaN</td>\n",
       "      <td>NaN</td>\n",
       "      <td>NaN</td>\n",
       "      <td>1</td>\n",
       "    </tr>\n",
       "    <tr>\n",
       "      <th>4936</th>\n",
       "      <td>1</td>\n",
       "      <td>NaN</td>\n",
       "      <td>1</td>\n",
       "      <td>NaN</td>\n",
       "      <td>NaN</td>\n",
       "      <td>NaN</td>\n",
       "      <td>1</td>\n",
       "      <td>1</td>\n",
       "      <td>1</td>\n",
       "      <td>1</td>\n",
       "      <td>...</td>\n",
       "      <td>1</td>\n",
       "      <td>NaN</td>\n",
       "      <td>NaN</td>\n",
       "      <td>1</td>\n",
       "      <td>1</td>\n",
       "      <td>1</td>\n",
       "      <td>NaN</td>\n",
       "      <td>NaN</td>\n",
       "      <td>NaN</td>\n",
       "      <td>NaN</td>\n",
       "    </tr>\n",
       "    <tr>\n",
       "      <th>6187</th>\n",
       "      <td>1</td>\n",
       "      <td>NaN</td>\n",
       "      <td>NaN</td>\n",
       "      <td>1</td>\n",
       "      <td>NaN</td>\n",
       "      <td>NaN</td>\n",
       "      <td>NaN</td>\n",
       "      <td>NaN</td>\n",
       "      <td>1</td>\n",
       "      <td>NaN</td>\n",
       "      <td>...</td>\n",
       "      <td>NaN</td>\n",
       "      <td>NaN</td>\n",
       "      <td>NaN</td>\n",
       "      <td>1</td>\n",
       "      <td>1</td>\n",
       "      <td>1</td>\n",
       "      <td>NaN</td>\n",
       "      <td>NaN</td>\n",
       "      <td>NaN</td>\n",
       "      <td>1</td>\n",
       "    </tr>\n",
       "    <tr>\n",
       "      <th>1276</th>\n",
       "      <td>1</td>\n",
       "      <td>1</td>\n",
       "      <td>1</td>\n",
       "      <td>NaN</td>\n",
       "      <td>NaN</td>\n",
       "      <td>NaN</td>\n",
       "      <td>NaN</td>\n",
       "      <td>1</td>\n",
       "      <td>1</td>\n",
       "      <td>1</td>\n",
       "      <td>...</td>\n",
       "      <td>1</td>\n",
       "      <td>NaN</td>\n",
       "      <td>NaN</td>\n",
       "      <td>1</td>\n",
       "      <td>1</td>\n",
       "      <td>1</td>\n",
       "      <td>NaN</td>\n",
       "      <td>NaN</td>\n",
       "      <td>NaN</td>\n",
       "      <td>NaN</td>\n",
       "    </tr>\n",
       "    <tr>\n",
       "      <th>6605</th>\n",
       "      <td>NaN</td>\n",
       "      <td>1</td>\n",
       "      <td>1</td>\n",
       "      <td>NaN</td>\n",
       "      <td>NaN</td>\n",
       "      <td>NaN</td>\n",
       "      <td>NaN</td>\n",
       "      <td>1</td>\n",
       "      <td>1</td>\n",
       "      <td>1</td>\n",
       "      <td>...</td>\n",
       "      <td>NaN</td>\n",
       "      <td>NaN</td>\n",
       "      <td>NaN</td>\n",
       "      <td>NaN</td>\n",
       "      <td>NaN</td>\n",
       "      <td>NaN</td>\n",
       "      <td>NaN</td>\n",
       "      <td>NaN</td>\n",
       "      <td>NaN</td>\n",
       "      <td>NaN</td>\n",
       "    </tr>\n",
       "    <tr>\n",
       "      <th>709</th>\n",
       "      <td>1</td>\n",
       "      <td>1</td>\n",
       "      <td>NaN</td>\n",
       "      <td>NaN</td>\n",
       "      <td>NaN</td>\n",
       "      <td>NaN</td>\n",
       "      <td>1</td>\n",
       "      <td>1</td>\n",
       "      <td>1</td>\n",
       "      <td>1</td>\n",
       "      <td>...</td>\n",
       "      <td>1</td>\n",
       "      <td>NaN</td>\n",
       "      <td>1</td>\n",
       "      <td>1</td>\n",
       "      <td>NaN</td>\n",
       "      <td>1</td>\n",
       "      <td>NaN</td>\n",
       "      <td>NaN</td>\n",
       "      <td>NaN</td>\n",
       "      <td>1</td>\n",
       "    </tr>\n",
       "    <tr>\n",
       "      <th>6858</th>\n",
       "      <td>1</td>\n",
       "      <td>1</td>\n",
       "      <td>NaN</td>\n",
       "      <td>1</td>\n",
       "      <td>NaN</td>\n",
       "      <td>NaN</td>\n",
       "      <td>1</td>\n",
       "      <td>1</td>\n",
       "      <td>1</td>\n",
       "      <td>1</td>\n",
       "      <td>...</td>\n",
       "      <td>1</td>\n",
       "      <td>1</td>\n",
       "      <td>1</td>\n",
       "      <td>1</td>\n",
       "      <td>NaN</td>\n",
       "      <td>1</td>\n",
       "      <td>1</td>\n",
       "      <td>NaN</td>\n",
       "      <td>1</td>\n",
       "      <td>NaN</td>\n",
       "    </tr>\n",
       "    <tr>\n",
       "      <th>2982</th>\n",
       "      <td>NaN</td>\n",
       "      <td>1</td>\n",
       "      <td>1</td>\n",
       "      <td>NaN</td>\n",
       "      <td>NaN</td>\n",
       "      <td>NaN</td>\n",
       "      <td>NaN</td>\n",
       "      <td>1</td>\n",
       "      <td>1</td>\n",
       "      <td>1</td>\n",
       "      <td>...</td>\n",
       "      <td>1</td>\n",
       "      <td>NaN</td>\n",
       "      <td>NaN</td>\n",
       "      <td>NaN</td>\n",
       "      <td>NaN</td>\n",
       "      <td>NaN</td>\n",
       "      <td>NaN</td>\n",
       "      <td>NaN</td>\n",
       "      <td>1</td>\n",
       "      <td>1</td>\n",
       "    </tr>\n",
       "    <tr>\n",
       "      <th>2042</th>\n",
       "      <td>NaN</td>\n",
       "      <td>1</td>\n",
       "      <td>NaN</td>\n",
       "      <td>NaN</td>\n",
       "      <td>NaN</td>\n",
       "      <td>NaN</td>\n",
       "      <td>NaN</td>\n",
       "      <td>NaN</td>\n",
       "      <td>1</td>\n",
       "      <td>1</td>\n",
       "      <td>...</td>\n",
       "      <td>NaN</td>\n",
       "      <td>NaN</td>\n",
       "      <td>NaN</td>\n",
       "      <td>1</td>\n",
       "      <td>NaN</td>\n",
       "      <td>1</td>\n",
       "      <td>NaN</td>\n",
       "      <td>NaN</td>\n",
       "      <td>NaN</td>\n",
       "      <td>1</td>\n",
       "    </tr>\n",
       "  </tbody>\n",
       "</table>\n",
       "<p>10 rows × 55 columns</p>\n",
       "</div>"
      ],
      "text/plain": [
       "     Coffee maker Washer Private entrance Bed linens Luggage dropoff allowed  \\\n",
       "3508            1      1              NaN          1                     NaN   \n",
       "8771            1      1                1        NaN                     NaN   \n",
       "4936            1    NaN                1        NaN                     NaN   \n",
       "6187            1    NaN              NaN          1                     NaN   \n",
       "1276            1      1                1        NaN                     NaN   \n",
       "6605          NaN      1                1        NaN                     NaN   \n",
       "709             1      1              NaN        NaN                     NaN   \n",
       "6858            1      1              NaN          1                     NaN   \n",
       "2982          NaN      1                1        NaN                     NaN   \n",
       "2042          NaN      1              NaN        NaN                     NaN   \n",
       "\n",
       "     Clothing storage: closet and dresser Oven Free parking on premises Wifi  \\\n",
       "3508                                  NaN  NaN                        1    1   \n",
       "8771                                  NaN  NaN                        1    1   \n",
       "4936                                  NaN    1                        1    1   \n",
       "6187                                  NaN  NaN                      NaN    1   \n",
       "1276                                  NaN  NaN                        1    1   \n",
       "6605                                  NaN  NaN                        1    1   \n",
       "709                                   NaN    1                        1    1   \n",
       "6858                                  NaN    1                        1    1   \n",
       "2982                                  NaN  NaN                        1    1   \n",
       "2042                                  NaN  NaN                      NaN    1   \n",
       "\n",
       "       TV  ... Dishes and silverware Shower gel Patio or balcony Iron  \\\n",
       "3508    1  ...                     1        NaN                1    1   \n",
       "8771    1  ...                     1          1              NaN    1   \n",
       "4936    1  ...                     1        NaN              NaN    1   \n",
       "6187  NaN  ...                   NaN        NaN              NaN    1   \n",
       "1276    1  ...                     1        NaN              NaN    1   \n",
       "6605    1  ...                   NaN        NaN              NaN  NaN   \n",
       "709     1  ...                     1        NaN                1    1   \n",
       "6858    1  ...                     1          1                1    1   \n",
       "2982    1  ...                     1        NaN              NaN  NaN   \n",
       "2042    1  ...                   NaN        NaN              NaN    1   \n",
       "\n",
       "     First aid kit Hot water BBQ grill Beach essentials Indoor fireplace  \\\n",
       "3508             1         1       NaN              NaN              NaN   \n",
       "8771             1         1       NaN              NaN              NaN   \n",
       "4936             1         1       NaN              NaN              NaN   \n",
       "6187             1         1       NaN              NaN              NaN   \n",
       "1276             1         1       NaN              NaN              NaN   \n",
       "6605           NaN       NaN       NaN              NaN              NaN   \n",
       "709            NaN         1       NaN              NaN              NaN   \n",
       "6858           NaN         1         1              NaN                1   \n",
       "2982           NaN       NaN       NaN              NaN                1   \n",
       "2042           NaN         1       NaN              NaN              NaN   \n",
       "\n",
       "     Free street parking  \n",
       "3508                   1  \n",
       "8771                   1  \n",
       "4936                 NaN  \n",
       "6187                   1  \n",
       "1276                 NaN  \n",
       "6605                 NaN  \n",
       "709                    1  \n",
       "6858                 NaN  \n",
       "2982                   1  \n",
       "2042                   1  \n",
       "\n",
       "[10 rows x 55 columns]"
      ]
     },
     "execution_count": 66,
     "metadata": {},
     "output_type": "execute_result"
    }
   ],
   "source": [
    "#checking the amenities dataframe\n",
    "amenities.sample(10)"
   ]
  },
  {
   "cell_type": "code",
   "execution_count": null,
   "metadata": {},
   "outputs": [],
   "source": [
    "data.drop(columns=['amenities'],inplace=True)"
   ]
  },
  {
   "cell_type": "markdown",
   "metadata": {},
   "source": [
    "### Room_type"
   ]
  },
  {
   "cell_type": "code",
   "execution_count": null,
   "metadata": {},
   "outputs": [],
   "source": [
    "data.room_type.unique()"
   ]
  },
  {
   "cell_type": "code",
   "execution_count": null,
   "metadata": {
    "scrolled": true
   },
   "outputs": [],
   "source": [
    "room = pd.get_dummies(data.room_type,drop_first=True)\n",
    "room.head()"
   ]
  },
  {
   "cell_type": "code",
   "execution_count": null,
   "metadata": {},
   "outputs": [],
   "source": [
    "data.drop(columns=['room_type'],inplace=True)"
   ]
  },
  {
   "cell_type": "markdown",
   "metadata": {},
   "source": [
    "### Property_type"
   ]
  },
  {
   "cell_type": "code",
   "execution_count": null,
   "metadata": {},
   "outputs": [],
   "source": [
    "data.property_type.unique()"
   ]
  },
  {
   "cell_type": "code",
   "execution_count": null,
   "metadata": {},
   "outputs": [],
   "source": [
    "property_type = pd.get_dummies(data.property_type)\n",
    "property_type.head()"
   ]
  },
  {
   "cell_type": "code",
   "execution_count": null,
   "metadata": {},
   "outputs": [],
   "source": [
    "data.drop(columns=['property_type'],inplace=True)"
   ]
  },
  {
   "cell_type": "markdown",
   "metadata": {},
   "source": [
    "### Neighbourhood"
   ]
  },
  {
   "cell_type": "code",
   "execution_count": null,
   "metadata": {},
   "outputs": [],
   "source": [
    "data.neighbourhood.unique()"
   ]
  },
  {
   "cell_type": "code",
   "execution_count": null,
   "metadata": {
    "scrolled": true
   },
   "outputs": [],
   "source": [
    "neighbourhood = pd.get_dummies(data.neighbourhood)\n",
    "neighbourhood.head()"
   ]
  },
  {
   "cell_type": "code",
   "execution_count": null,
   "metadata": {},
   "outputs": [],
   "source": [
    "data.drop(columns=['neighbourhood'],inplace=True)"
   ]
  },
  {
   "cell_type": "markdown",
   "metadata": {},
   "source": [
    "## Bolean features"
   ]
  },
  {
   "cell_type": "code",
   "execution_count": null,
   "metadata": {
    "scrolled": false
   },
   "outputs": [],
   "source": [
    "data.select_dtypes(include='bool').info()"
   ]
  },
  {
   "cell_type": "code",
   "execution_count": null,
   "metadata": {},
   "outputs": [],
   "source": [
    "#Convert boolean to numeric\n",
    "cols = ['description', 'neighborhood_overview', 'host_about',\n",
    "       'host_is_superhost', 'host_has_profile_pic', 'host_identity_verified',\n",
    "       'instant_bookable', 'host_in_SD']\n",
    "for col in cols:\n",
    "    data[col] = data[col].astype(int)"
   ]
  },
  {
   "cell_type": "code",
   "execution_count": null,
   "metadata": {},
   "outputs": [],
   "source": [
    "data.info()"
   ]
  },
  {
   "cell_type": "markdown",
   "metadata": {},
   "source": [
    "## Numerical features"
   ]
  },
  {
   "cell_type": "code",
   "execution_count": null,
   "metadata": {},
   "outputs": [],
   "source": [
    "data.select_dtypes(exclude='object').info()"
   ]
  },
  {
   "cell_type": "code",
   "execution_count": null,
   "metadata": {},
   "outputs": [],
   "source": [
    "#drop host_id and id because they are unlikely to have an impact on pricing\n",
    "data.drop(columns=['host_id','id'],inplace=True)"
   ]
  },
  {
   "cell_type": "code",
   "execution_count": null,
   "metadata": {},
   "outputs": [],
   "source": [
    "#Count the number of missing values in each column as well as the percentages\n",
    "missing = pd.concat([data.isnull().sum(), 100 * data.isnull().mean()], axis=1)\n",
    "missing.columns=[\"count\", \"%\"]\n",
    "missing = missing[missing['%']!=0]\n",
    "missing.sort_values(by='%', ascending =False)"
   ]
  },
  {
   "cell_type": "code",
   "execution_count": null,
   "metadata": {},
   "outputs": [],
   "source": [
    "# fill missing data with 0\n",
    "data.fillna(value={'host_response_rate':0,'host_acceptance_rate':0},inplace=True)"
   ]
  },
  {
   "cell_type": "code",
   "execution_count": null,
   "metadata": {},
   "outputs": [],
   "source": [
    "#Count the number of missing values in each column as well as the percentages\n",
    "missing = pd.concat([data.isnull().sum(), 100 * data.isnull().mean()], axis=1)\n",
    "missing.columns=[\"count\", \"%\"]\n",
    "missing = missing[missing['%']!=0]\n",
    "missing.sort_values(by='%', ascending =False)"
   ]
  },
  {
   "cell_type": "code",
   "execution_count": null,
   "metadata": {},
   "outputs": [],
   "source": [
    "data.columns"
   ]
  },
  {
   "cell_type": "markdown",
   "metadata": {},
   "source": [
    "### Prepare DataFrame"
   ]
  },
  {
   "cell_type": "code",
   "execution_count": null,
   "metadata": {},
   "outputs": [],
   "source": [
    "df = copy.deepcopy(data)"
   ]
  },
  {
   "cell_type": "code",
   "execution_count": null,
   "metadata": {},
   "outputs": [],
   "source": [
    "len(df)"
   ]
  },
  {
   "cell_type": "code",
   "execution_count": null,
   "metadata": {},
   "outputs": [],
   "source": [
    "len(host_response_time)"
   ]
  },
  {
   "cell_type": "code",
   "execution_count": null,
   "metadata": {},
   "outputs": [],
   "source": [
    "len(bathrooms)"
   ]
  },
  {
   "cell_type": "code",
   "execution_count": null,
   "metadata": {},
   "outputs": [],
   "source": [
    "len(amenities)"
   ]
  },
  {
   "cell_type": "code",
   "execution_count": null,
   "metadata": {},
   "outputs": [],
   "source": [
    "len(room)"
   ]
  },
  {
   "cell_type": "code",
   "execution_count": null,
   "metadata": {},
   "outputs": [],
   "source": [
    "len(property_type)"
   ]
  },
  {
   "cell_type": "code",
   "execution_count": null,
   "metadata": {},
   "outputs": [],
   "source": [
    "len(neighbourhood)"
   ]
  },
  {
   "cell_type": "code",
   "execution_count": null,
   "metadata": {},
   "outputs": [],
   "source": [
    "df = pd.concat([df,host_response_time, bathrooms, amenities,\n",
    "               room, property_type,neighbourhood],axis=1)"
   ]
  },
  {
   "cell_type": "code",
   "execution_count": null,
   "metadata": {},
   "outputs": [],
   "source": []
  },
  {
   "cell_type": "markdown",
   "metadata": {},
   "source": [
    "## Train/test split"
   ]
  },
  {
   "cell_type": "code",
   "execution_count": null,
   "metadata": {},
   "outputs": [],
   "source": [
    "from sklearn.model_selection import train_test_split\n",
    "from sklearn.preprocessing import StandardScaler"
   ]
  },
  {
   "cell_type": "code",
   "execution_count": null,
   "metadata": {},
   "outputs": [],
   "source": [
    "X_train, X_test, y_train, y_test = train_test_split(df.drop(columns='price'), \n",
    "                                                    df.price, test_size=0.3, \n",
    "                                                    random_state=123)"
   ]
  },
  {
   "cell_type": "code",
   "execution_count": null,
   "metadata": {},
   "outputs": [],
   "source": [
    "X_train.shape, X_test.shape"
   ]
  },
  {
   "cell_type": "code",
   "execution_count": null,
   "metadata": {},
   "outputs": [],
   "source": [
    "X_train.dtypes"
   ]
  },
  {
   "cell_type": "code",
   "execution_count": null,
   "metadata": {},
   "outputs": [],
   "source": [
    "X_test.dtypes"
   ]
  },
  {
   "cell_type": "markdown",
   "metadata": {},
   "source": [
    "### Imputing missing feature values"
   ]
  },
  {
   "cell_type": "code",
   "execution_count": null,
   "metadata": {},
   "outputs": [],
   "source": [
    "#Count the number of missing values in each column as well as the percentages\n",
    "missing1 = pd.concat([df.isnull().sum(), 100 * df.isnull().mean()], axis=1)\n",
    "missing1.columns=[\"count\", \"%\"]\n",
    "missing1 = missing1[missing1['%']!=0]\n",
    "missing1.sort_values(by='%', ascending =False)"
   ]
  },
  {
   "cell_type": "code",
   "execution_count": null,
   "metadata": {},
   "outputs": [],
   "source": []
  },
  {
   "cell_type": "code",
   "execution_count": null,
   "metadata": {},
   "outputs": [],
   "source": []
  },
  {
   "cell_type": "code",
   "execution_count": null,
   "metadata": {},
   "outputs": [],
   "source": []
  },
  {
   "cell_type": "code",
   "execution_count": null,
   "metadata": {},
   "outputs": [],
   "source": []
  },
  {
   "cell_type": "code",
   "execution_count": null,
   "metadata": {},
   "outputs": [],
   "source": []
  },
  {
   "cell_type": "code",
   "execution_count": null,
   "metadata": {},
   "outputs": [],
   "source": []
  },
  {
   "cell_type": "code",
   "execution_count": null,
   "metadata": {},
   "outputs": [],
   "source": []
  },
  {
   "cell_type": "code",
   "execution_count": null,
   "metadata": {},
   "outputs": [],
   "source": []
  },
  {
   "cell_type": "code",
   "execution_count": null,
   "metadata": {},
   "outputs": [],
   "source": []
  },
  {
   "cell_type": "code",
   "execution_count": null,
   "metadata": {},
   "outputs": [],
   "source": []
  },
  {
   "cell_type": "code",
   "execution_count": null,
   "metadata": {},
   "outputs": [],
   "source": []
  },
  {
   "cell_type": "code",
   "execution_count": null,
   "metadata": {},
   "outputs": [],
   "source": []
  },
  {
   "cell_type": "code",
   "execution_count": null,
   "metadata": {},
   "outputs": [],
   "source": []
  },
  {
   "cell_type": "code",
   "execution_count": null,
   "metadata": {},
   "outputs": [],
   "source": []
  },
  {
   "cell_type": "code",
   "execution_count": null,
   "metadata": {},
   "outputs": [],
   "source": []
  },
  {
   "cell_type": "code",
   "execution_count": null,
   "metadata": {},
   "outputs": [],
   "source": []
  },
  {
   "cell_type": "code",
   "execution_count": null,
   "metadata": {},
   "outputs": [],
   "source": []
  },
  {
   "cell_type": "code",
   "execution_count": null,
   "metadata": {},
   "outputs": [],
   "source": []
  },
  {
   "cell_type": "code",
   "execution_count": null,
   "metadata": {},
   "outputs": [],
   "source": []
  },
  {
   "cell_type": "code",
   "execution_count": null,
   "metadata": {},
   "outputs": [],
   "source": []
  },
  {
   "cell_type": "code",
   "execution_count": null,
   "metadata": {},
   "outputs": [],
   "source": []
  },
  {
   "cell_type": "code",
   "execution_count": null,
   "metadata": {},
   "outputs": [],
   "source": []
  },
  {
   "cell_type": "code",
   "execution_count": null,
   "metadata": {},
   "outputs": [],
   "source": []
  },
  {
   "cell_type": "code",
   "execution_count": null,
   "metadata": {},
   "outputs": [],
   "source": []
  }
 ],
 "metadata": {
  "kernelspec": {
   "display_name": "Python [conda env:geopandas]",
   "language": "python",
   "name": "conda-env-geopandas-py"
  },
  "language_info": {
   "codemirror_mode": {
    "name": "ipython",
    "version": 3
   },
   "file_extension": ".py",
   "mimetype": "text/x-python",
   "name": "python",
   "nbconvert_exporter": "python",
   "pygments_lexer": "ipython3",
   "version": "3.8.8"
  }
 },
 "nbformat": 4,
 "nbformat_minor": 4
}
