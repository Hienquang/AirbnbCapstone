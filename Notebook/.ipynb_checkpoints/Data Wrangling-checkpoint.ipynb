{
 "cells": [
  {
   "cell_type": "markdown",
   "metadata": {},
   "source": [
    "# Data wrangling"
   ]
  },
  {
   "cell_type": "markdown",
   "metadata": {},
   "source": [
    "## Imports"
   ]
  },
  {
   "cell_type": "code",
   "execution_count": 1,
   "metadata": {},
   "outputs": [],
   "source": [
    "import pandas as pd\n",
    "import matplotlib.pyplot as plt\n",
    "import seaborn as sns\n",
    "import numpy as np\n",
    "import ast\n"
   ]
  },
  {
   "cell_type": "markdown",
   "metadata": {},
   "source": [
    "## Load Airbnb Data"
   ]
  },
  {
   "cell_type": "markdown",
   "metadata": {},
   "source": [
    "Data is compiled on Jan 23, 2012 from [http://insideairbnb.com/get-the-data.html](http://insideairbnb.com/get-the-data.html). There are total 7 files available as followed\n",
    "\n",
    "- listings.csv : detailed listings data\n",
    "- calendar.csv : detailed calendar data\n",
    "- reviews.csv : detailed review data\n",
    "- listings_sum.csv : summary information and metrics for listing (good for visulalization)\n",
    "- reviews_sum.csv : summary review data and listing ID (faciliate time based analystics and visialisations linked to a listing)\n",
    "- neighbourhoods.csv : neighbourhood list for geo filter. Sourced from city or open sources GIS files\n",
    "- neighbourhoods.geojson : GeoJSON file for the neighbourhoods of the city\n"
   ]
  },
  {
   "cell_type": "markdown",
   "metadata": {},
   "source": [
    "listings.csv seems to be the most relevent data for this project. listings_sum.csv can potentially provide some context as well."
   ]
  },
  {
   "cell_type": "code",
   "execution_count": 2,
   "metadata": {},
   "outputs": [],
   "source": [
    "listings = pd.read_csv('../data/listings.csv')\n",
    "list_sum = pd.read_csv('../data/listings_sum.csv')"
   ]
  },
  {
   "cell_type": "code",
   "execution_count": 3,
   "metadata": {},
   "outputs": [
    {
     "data": {
      "text/html": [
       "<div>\n",
       "<style scoped>\n",
       "    .dataframe tbody tr th:only-of-type {\n",
       "        vertical-align: middle;\n",
       "    }\n",
       "\n",
       "    .dataframe tbody tr th {\n",
       "        vertical-align: top;\n",
       "    }\n",
       "\n",
       "    .dataframe thead th {\n",
       "        text-align: right;\n",
       "    }\n",
       "</style>\n",
       "<table border=\"1\" class=\"dataframe\">\n",
       "  <thead>\n",
       "    <tr style=\"text-align: right;\">\n",
       "      <th></th>\n",
       "      <th>id</th>\n",
       "      <th>listing_url</th>\n",
       "      <th>scrape_id</th>\n",
       "      <th>last_scraped</th>\n",
       "      <th>name</th>\n",
       "      <th>description</th>\n",
       "      <th>neighborhood_overview</th>\n",
       "      <th>picture_url</th>\n",
       "      <th>host_id</th>\n",
       "      <th>host_url</th>\n",
       "      <th>...</th>\n",
       "      <th>review_scores_communication</th>\n",
       "      <th>review_scores_location</th>\n",
       "      <th>review_scores_value</th>\n",
       "      <th>license</th>\n",
       "      <th>instant_bookable</th>\n",
       "      <th>calculated_host_listings_count</th>\n",
       "      <th>calculated_host_listings_count_entire_homes</th>\n",
       "      <th>calculated_host_listings_count_private_rooms</th>\n",
       "      <th>calculated_host_listings_count_shared_rooms</th>\n",
       "      <th>reviews_per_month</th>\n",
       "    </tr>\n",
       "  </thead>\n",
       "  <tbody>\n",
       "    <tr>\n",
       "      <th>0</th>\n",
       "      <td>5570</td>\n",
       "      <td>https://www.airbnb.com/rooms/5570</td>\n",
       "      <td>20210123171531</td>\n",
       "      <td>2021-01-24</td>\n",
       "      <td>Ocean front condo on the sand</td>\n",
       "      <td>Missionbeachretreat.   Great Ocean Front Condo...</td>\n",
       "      <td>While some may compare San Diego’s Mission Bea...</td>\n",
       "      <td>https://a0.muscache.com/pictures/d3342744-140a...</td>\n",
       "      <td>8435</td>\n",
       "      <td>https://www.airbnb.com/users/show/8435</td>\n",
       "      <td>...</td>\n",
       "      <td>NaN</td>\n",
       "      <td>NaN</td>\n",
       "      <td>NaN</td>\n",
       "      <td>NaN</td>\n",
       "      <td>f</td>\n",
       "      <td>3</td>\n",
       "      <td>3</td>\n",
       "      <td>0</td>\n",
       "      <td>0</td>\n",
       "      <td>NaN</td>\n",
       "    </tr>\n",
       "    <tr>\n",
       "      <th>1</th>\n",
       "      <td>29967</td>\n",
       "      <td>https://www.airbnb.com/rooms/29967</td>\n",
       "      <td>20210123171531</td>\n",
       "      <td>2021-01-24</td>\n",
       "      <td>Great home, 10 min walk to Beach</td>\n",
       "      <td>This 2 bedroom, 2 full bathroom home offers al...</td>\n",
       "      <td>NaN</td>\n",
       "      <td>https://a0.muscache.com/pictures/76103867/c9b5...</td>\n",
       "      <td>129123</td>\n",
       "      <td>https://www.airbnb.com/users/show/129123</td>\n",
       "      <td>...</td>\n",
       "      <td>10.0</td>\n",
       "      <td>10.0</td>\n",
       "      <td>10.0</td>\n",
       "      <td>NaN</td>\n",
       "      <td>f</td>\n",
       "      <td>5</td>\n",
       "      <td>5</td>\n",
       "      <td>0</td>\n",
       "      <td>0</td>\n",
       "      <td>0.48</td>\n",
       "    </tr>\n",
       "    <tr>\n",
       "      <th>2</th>\n",
       "      <td>38245</td>\n",
       "      <td>https://www.airbnb.com/rooms/38245</td>\n",
       "      <td>20210123171531</td>\n",
       "      <td>2021-01-25</td>\n",
       "      <td>Point Loma: Den downstairs</td>\n",
       "      <td>Stay in a 1928 Spanish Style home.  Den is dow...</td>\n",
       "      <td>This neighborhood is an expensive, high-end Po...</td>\n",
       "      <td>https://a0.muscache.com/pictures/f3073822-e493...</td>\n",
       "      <td>164137</td>\n",
       "      <td>https://www.airbnb.com/users/show/164137</td>\n",
       "      <td>...</td>\n",
       "      <td>10.0</td>\n",
       "      <td>9.0</td>\n",
       "      <td>9.0</td>\n",
       "      <td>NaN</td>\n",
       "      <td>f</td>\n",
       "      <td>3</td>\n",
       "      <td>0</td>\n",
       "      <td>3</td>\n",
       "      <td>0</td>\n",
       "      <td>1.13</td>\n",
       "    </tr>\n",
       "    <tr>\n",
       "      <th>3</th>\n",
       "      <td>54001</td>\n",
       "      <td>https://www.airbnb.com/rooms/54001</td>\n",
       "      <td>20210123171531</td>\n",
       "      <td>2021-01-24</td>\n",
       "      <td>La Jolla 2 Bdr Cottage: 1 Qn; 2Twns, Blks 2 Ocn</td>\n",
       "      <td>Quiet, off the beaten path, this secluded  cot...</td>\n",
       "      <td>Tranquility, stately trees, meditative, zen-fu...</td>\n",
       "      <td>https://a0.muscache.com/pictures/47035b04-633c...</td>\n",
       "      <td>252692</td>\n",
       "      <td>https://www.airbnb.com/users/show/252692</td>\n",
       "      <td>...</td>\n",
       "      <td>10.0</td>\n",
       "      <td>10.0</td>\n",
       "      <td>10.0</td>\n",
       "      <td>NaN</td>\n",
       "      <td>f</td>\n",
       "      <td>2</td>\n",
       "      <td>1</td>\n",
       "      <td>1</td>\n",
       "      <td>0</td>\n",
       "      <td>2.02</td>\n",
       "    </tr>\n",
       "    <tr>\n",
       "      <th>4</th>\n",
       "      <td>62274</td>\n",
       "      <td>https://www.airbnb.com/rooms/62274</td>\n",
       "      <td>20210123171531</td>\n",
       "      <td>2021-01-25</td>\n",
       "      <td>charming, colorful, close to beach</td>\n",
       "      <td>Modern, cozy, artsy, and european in a lush ga...</td>\n",
       "      <td>We are in walking distance to Starbucks, Trade...</td>\n",
       "      <td>https://a0.muscache.com/pictures/84577734/93ca...</td>\n",
       "      <td>302986</td>\n",
       "      <td>https://www.airbnb.com/users/show/302986</td>\n",
       "      <td>...</td>\n",
       "      <td>10.0</td>\n",
       "      <td>10.0</td>\n",
       "      <td>10.0</td>\n",
       "      <td>NaN</td>\n",
       "      <td>f</td>\n",
       "      <td>2</td>\n",
       "      <td>2</td>\n",
       "      <td>0</td>\n",
       "      <td>0</td>\n",
       "      <td>5.06</td>\n",
       "    </tr>\n",
       "  </tbody>\n",
       "</table>\n",
       "<p>5 rows × 74 columns</p>\n",
       "</div>"
      ],
      "text/plain": [
       "      id                         listing_url       scrape_id last_scraped  \\\n",
       "0   5570   https://www.airbnb.com/rooms/5570  20210123171531   2021-01-24   \n",
       "1  29967  https://www.airbnb.com/rooms/29967  20210123171531   2021-01-24   \n",
       "2  38245  https://www.airbnb.com/rooms/38245  20210123171531   2021-01-25   \n",
       "3  54001  https://www.airbnb.com/rooms/54001  20210123171531   2021-01-24   \n",
       "4  62274  https://www.airbnb.com/rooms/62274  20210123171531   2021-01-25   \n",
       "\n",
       "                                              name  \\\n",
       "0                    Ocean front condo on the sand   \n",
       "1                 Great home, 10 min walk to Beach   \n",
       "2                       Point Loma: Den downstairs   \n",
       "3  La Jolla 2 Bdr Cottage: 1 Qn; 2Twns, Blks 2 Ocn   \n",
       "4               charming, colorful, close to beach   \n",
       "\n",
       "                                         description  \\\n",
       "0  Missionbeachretreat.   Great Ocean Front Condo...   \n",
       "1  This 2 bedroom, 2 full bathroom home offers al...   \n",
       "2  Stay in a 1928 Spanish Style home.  Den is dow...   \n",
       "3  Quiet, off the beaten path, this secluded  cot...   \n",
       "4  Modern, cozy, artsy, and european in a lush ga...   \n",
       "\n",
       "                               neighborhood_overview  \\\n",
       "0  While some may compare San Diego’s Mission Bea...   \n",
       "1                                                NaN   \n",
       "2  This neighborhood is an expensive, high-end Po...   \n",
       "3  Tranquility, stately trees, meditative, zen-fu...   \n",
       "4  We are in walking distance to Starbucks, Trade...   \n",
       "\n",
       "                                         picture_url  host_id  \\\n",
       "0  https://a0.muscache.com/pictures/d3342744-140a...     8435   \n",
       "1  https://a0.muscache.com/pictures/76103867/c9b5...   129123   \n",
       "2  https://a0.muscache.com/pictures/f3073822-e493...   164137   \n",
       "3  https://a0.muscache.com/pictures/47035b04-633c...   252692   \n",
       "4  https://a0.muscache.com/pictures/84577734/93ca...   302986   \n",
       "\n",
       "                                   host_url  ... review_scores_communication  \\\n",
       "0    https://www.airbnb.com/users/show/8435  ...                         NaN   \n",
       "1  https://www.airbnb.com/users/show/129123  ...                        10.0   \n",
       "2  https://www.airbnb.com/users/show/164137  ...                        10.0   \n",
       "3  https://www.airbnb.com/users/show/252692  ...                        10.0   \n",
       "4  https://www.airbnb.com/users/show/302986  ...                        10.0   \n",
       "\n",
       "  review_scores_location review_scores_value license instant_bookable  \\\n",
       "0                    NaN                 NaN     NaN                f   \n",
       "1                   10.0                10.0     NaN                f   \n",
       "2                    9.0                 9.0     NaN                f   \n",
       "3                   10.0                10.0     NaN                f   \n",
       "4                   10.0                10.0     NaN                f   \n",
       "\n",
       "  calculated_host_listings_count calculated_host_listings_count_entire_homes  \\\n",
       "0                              3                                           3   \n",
       "1                              5                                           5   \n",
       "2                              3                                           0   \n",
       "3                              2                                           1   \n",
       "4                              2                                           2   \n",
       "\n",
       "  calculated_host_listings_count_private_rooms  \\\n",
       "0                                            0   \n",
       "1                                            0   \n",
       "2                                            3   \n",
       "3                                            1   \n",
       "4                                            0   \n",
       "\n",
       "  calculated_host_listings_count_shared_rooms reviews_per_month  \n",
       "0                                           0               NaN  \n",
       "1                                           0              0.48  \n",
       "2                                           0              1.13  \n",
       "3                                           0              2.02  \n",
       "4                                           0              5.06  \n",
       "\n",
       "[5 rows x 74 columns]"
      ]
     },
     "execution_count": 3,
     "metadata": {},
     "output_type": "execute_result"
    }
   ],
   "source": [
    "listings.head()"
   ]
  },
  {
   "cell_type": "code",
   "execution_count": 4,
   "metadata": {},
   "outputs": [
    {
     "name": "stdout",
     "output_type": "stream",
     "text": [
      "<class 'pandas.core.frame.DataFrame'>\n",
      "RangeIndex: 9281 entries, 0 to 9280\n",
      "Data columns (total 74 columns):\n",
      " #   Column                                        Non-Null Count  Dtype  \n",
      "---  ------                                        --------------  -----  \n",
      " 0   id                                            9281 non-null   int64  \n",
      " 1   listing_url                                   9281 non-null   object \n",
      " 2   scrape_id                                     9281 non-null   int64  \n",
      " 3   last_scraped                                  9281 non-null   object \n",
      " 4   name                                          9281 non-null   object \n",
      " 5   description                                   9116 non-null   object \n",
      " 6   neighborhood_overview                         6648 non-null   object \n",
      " 7   picture_url                                   9281 non-null   object \n",
      " 8   host_id                                       9281 non-null   int64  \n",
      " 9   host_url                                      9281 non-null   object \n",
      " 10  host_name                                     9278 non-null   object \n",
      " 11  host_since                                    9278 non-null   object \n",
      " 12  host_location                                 9264 non-null   object \n",
      " 13  host_about                                    6489 non-null   object \n",
      " 14  host_response_time                            8147 non-null   object \n",
      " 15  host_response_rate                            8147 non-null   object \n",
      " 16  host_acceptance_rate                          8658 non-null   object \n",
      " 17  host_is_superhost                             9278 non-null   object \n",
      " 18  host_thumbnail_url                            9278 non-null   object \n",
      " 19  host_picture_url                              9278 non-null   object \n",
      " 20  host_neighbourhood                            8327 non-null   object \n",
      " 21  host_listings_count                           9278 non-null   float64\n",
      " 22  host_total_listings_count                     9278 non-null   float64\n",
      " 23  host_verifications                            9281 non-null   object \n",
      " 24  host_has_profile_pic                          9278 non-null   object \n",
      " 25  host_identity_verified                        9278 non-null   object \n",
      " 26  neighbourhood                                 6648 non-null   object \n",
      " 27  neighbourhood_cleansed                        9281 non-null   object \n",
      " 28  neighbourhood_group_cleansed                  0 non-null      float64\n",
      " 29  latitude                                      9281 non-null   float64\n",
      " 30  longitude                                     9281 non-null   float64\n",
      " 31  property_type                                 9281 non-null   object \n",
      " 32  room_type                                     9281 non-null   object \n",
      " 33  accommodates                                  9281 non-null   int64  \n",
      " 34  bathrooms                                     0 non-null      float64\n",
      " 35  bathrooms_text                                9271 non-null   object \n",
      " 36  bedrooms                                      8292 non-null   float64\n",
      " 37  beds                                          9238 non-null   float64\n",
      " 38  amenities                                     9281 non-null   object \n",
      " 39  price                                         9281 non-null   object \n",
      " 40  minimum_nights                                9281 non-null   int64  \n",
      " 41  maximum_nights                                9281 non-null   int64  \n",
      " 42  minimum_minimum_nights                        9280 non-null   float64\n",
      " 43  maximum_minimum_nights                        9280 non-null   float64\n",
      " 44  minimum_maximum_nights                        9280 non-null   float64\n",
      " 45  maximum_maximum_nights                        9280 non-null   float64\n",
      " 46  minimum_nights_avg_ntm                        9280 non-null   float64\n",
      " 47  maximum_nights_avg_ntm                        9280 non-null   float64\n",
      " 48  calendar_updated                              0 non-null      float64\n",
      " 49  has_availability                              9281 non-null   object \n",
      " 50  availability_30                               9281 non-null   int64  \n",
      " 51  availability_60                               9281 non-null   int64  \n",
      " 52  availability_90                               9281 non-null   int64  \n",
      " 53  availability_365                              9281 non-null   int64  \n",
      " 54  calendar_last_scraped                         9281 non-null   object \n",
      " 55  number_of_reviews                             9281 non-null   int64  \n",
      " 56  number_of_reviews_ltm                         9281 non-null   int64  \n",
      " 57  number_of_reviews_l30d                        9281 non-null   int64  \n",
      " 58  first_review                                  7858 non-null   object \n",
      " 59  last_review                                   7858 non-null   object \n",
      " 60  review_scores_rating                          7815 non-null   float64\n",
      " 61  review_scores_accuracy                        7770 non-null   float64\n",
      " 62  review_scores_cleanliness                     7771 non-null   float64\n",
      " 63  review_scores_checkin                         7767 non-null   float64\n",
      " 64  review_scores_communication                   7770 non-null   float64\n",
      " 65  review_scores_location                        7767 non-null   float64\n",
      " 66  review_scores_value                           7767 non-null   float64\n",
      " 67  license                                       0 non-null      float64\n",
      " 68  instant_bookable                              9281 non-null   object \n",
      " 69  calculated_host_listings_count                9281 non-null   int64  \n",
      " 70  calculated_host_listings_count_entire_homes   9281 non-null   int64  \n",
      " 71  calculated_host_listings_count_private_rooms  9281 non-null   int64  \n",
      " 72  calculated_host_listings_count_shared_rooms   9281 non-null   int64  \n",
      " 73  reviews_per_month                             7858 non-null   float64\n",
      "dtypes: float64(24), int64(17), object(33)\n",
      "memory usage: 5.2+ MB\n"
     ]
    }
   ],
   "source": [
    "listings.info()"
   ]
  },
  {
   "cell_type": "code",
   "execution_count": 5,
   "metadata": {},
   "outputs": [
    {
     "data": {
      "text/html": [
       "<div>\n",
       "<style scoped>\n",
       "    .dataframe tbody tr th:only-of-type {\n",
       "        vertical-align: middle;\n",
       "    }\n",
       "\n",
       "    .dataframe tbody tr th {\n",
       "        vertical-align: top;\n",
       "    }\n",
       "\n",
       "    .dataframe thead th {\n",
       "        text-align: right;\n",
       "    }\n",
       "</style>\n",
       "<table border=\"1\" class=\"dataframe\">\n",
       "  <thead>\n",
       "    <tr style=\"text-align: right;\">\n",
       "      <th></th>\n",
       "      <th>id</th>\n",
       "      <th>name</th>\n",
       "      <th>host_id</th>\n",
       "      <th>host_name</th>\n",
       "      <th>neighbourhood_group</th>\n",
       "      <th>neighbourhood</th>\n",
       "      <th>latitude</th>\n",
       "      <th>longitude</th>\n",
       "      <th>room_type</th>\n",
       "      <th>price</th>\n",
       "      <th>minimum_nights</th>\n",
       "      <th>number_of_reviews</th>\n",
       "      <th>last_review</th>\n",
       "      <th>reviews_per_month</th>\n",
       "      <th>calculated_host_listings_count</th>\n",
       "      <th>availability_365</th>\n",
       "    </tr>\n",
       "  </thead>\n",
       "  <tbody>\n",
       "    <tr>\n",
       "      <th>0</th>\n",
       "      <td>5570</td>\n",
       "      <td>Ocean front condo on the sand</td>\n",
       "      <td>8435</td>\n",
       "      <td>Jef Karchin</td>\n",
       "      <td>NaN</td>\n",
       "      <td>Mission Bay</td>\n",
       "      <td>32.78430</td>\n",
       "      <td>-117.25258</td>\n",
       "      <td>Entire home/apt</td>\n",
       "      <td>2050</td>\n",
       "      <td>3</td>\n",
       "      <td>0</td>\n",
       "      <td>NaN</td>\n",
       "      <td>NaN</td>\n",
       "      <td>3</td>\n",
       "      <td>232</td>\n",
       "    </tr>\n",
       "    <tr>\n",
       "      <th>1</th>\n",
       "      <td>29967</td>\n",
       "      <td>Great home, 10 min walk to Beach</td>\n",
       "      <td>129123</td>\n",
       "      <td>Michael</td>\n",
       "      <td>NaN</td>\n",
       "      <td>Pacific Beach</td>\n",
       "      <td>32.80724</td>\n",
       "      <td>-117.25630</td>\n",
       "      <td>Entire home/apt</td>\n",
       "      <td>225</td>\n",
       "      <td>4</td>\n",
       "      <td>62</td>\n",
       "      <td>2020-11-29</td>\n",
       "      <td>0.48</td>\n",
       "      <td>5</td>\n",
       "      <td>239</td>\n",
       "    </tr>\n",
       "    <tr>\n",
       "      <th>2</th>\n",
       "      <td>38245</td>\n",
       "      <td>Point Loma: Den downstairs</td>\n",
       "      <td>164137</td>\n",
       "      <td>Melinda</td>\n",
       "      <td>NaN</td>\n",
       "      <td>Roseville</td>\n",
       "      <td>32.74202</td>\n",
       "      <td>-117.21870</td>\n",
       "      <td>Private room</td>\n",
       "      <td>74</td>\n",
       "      <td>1</td>\n",
       "      <td>143</td>\n",
       "      <td>2019-10-20</td>\n",
       "      <td>1.13</td>\n",
       "      <td>3</td>\n",
       "      <td>365</td>\n",
       "    </tr>\n",
       "    <tr>\n",
       "      <th>3</th>\n",
       "      <td>54001</td>\n",
       "      <td>La Jolla 2 Bdr Cottage: 1 Qn; 2Twns, Blks 2 Ocn</td>\n",
       "      <td>252692</td>\n",
       "      <td>Marsha</td>\n",
       "      <td>NaN</td>\n",
       "      <td>La Jolla</td>\n",
       "      <td>32.81301</td>\n",
       "      <td>-117.26856</td>\n",
       "      <td>Entire home/apt</td>\n",
       "      <td>85</td>\n",
       "      <td>28</td>\n",
       "      <td>247</td>\n",
       "      <td>2021-01-09</td>\n",
       "      <td>2.02</td>\n",
       "      <td>2</td>\n",
       "      <td>131</td>\n",
       "    </tr>\n",
       "    <tr>\n",
       "      <th>4</th>\n",
       "      <td>62274</td>\n",
       "      <td>charming, colorful, close to beach</td>\n",
       "      <td>302986</td>\n",
       "      <td>Isabel</td>\n",
       "      <td>NaN</td>\n",
       "      <td>Pacific Beach</td>\n",
       "      <td>32.80734</td>\n",
       "      <td>-117.24243</td>\n",
       "      <td>Entire home/apt</td>\n",
       "      <td>73</td>\n",
       "      <td>1</td>\n",
       "      <td>625</td>\n",
       "      <td>2021-01-01</td>\n",
       "      <td>5.06</td>\n",
       "      <td>2</td>\n",
       "      <td>317</td>\n",
       "    </tr>\n",
       "  </tbody>\n",
       "</table>\n",
       "</div>"
      ],
      "text/plain": [
       "      id                                             name  host_id  \\\n",
       "0   5570                    Ocean front condo on the sand     8435   \n",
       "1  29967                 Great home, 10 min walk to Beach   129123   \n",
       "2  38245                       Point Loma: Den downstairs   164137   \n",
       "3  54001  La Jolla 2 Bdr Cottage: 1 Qn; 2Twns, Blks 2 Ocn   252692   \n",
       "4  62274               charming, colorful, close to beach   302986   \n",
       "\n",
       "     host_name  neighbourhood_group  neighbourhood  latitude  longitude  \\\n",
       "0  Jef Karchin                  NaN    Mission Bay  32.78430 -117.25258   \n",
       "1      Michael                  NaN  Pacific Beach  32.80724 -117.25630   \n",
       "2      Melinda                  NaN      Roseville  32.74202 -117.21870   \n",
       "3       Marsha                  NaN       La Jolla  32.81301 -117.26856   \n",
       "4       Isabel                  NaN  Pacific Beach  32.80734 -117.24243   \n",
       "\n",
       "         room_type  price  minimum_nights  number_of_reviews last_review  \\\n",
       "0  Entire home/apt   2050               3                  0         NaN   \n",
       "1  Entire home/apt    225               4                 62  2020-11-29   \n",
       "2     Private room     74               1                143  2019-10-20   \n",
       "3  Entire home/apt     85              28                247  2021-01-09   \n",
       "4  Entire home/apt     73               1                625  2021-01-01   \n",
       "\n",
       "   reviews_per_month  calculated_host_listings_count  availability_365  \n",
       "0                NaN                               3               232  \n",
       "1               0.48                               5               239  \n",
       "2               1.13                               3               365  \n",
       "3               2.02                               2               131  \n",
       "4               5.06                               2               317  "
      ]
     },
     "execution_count": 5,
     "metadata": {},
     "output_type": "execute_result"
    }
   ],
   "source": [
    "list_sum.head()"
   ]
  },
  {
   "cell_type": "code",
   "execution_count": 6,
   "metadata": {},
   "outputs": [
    {
     "name": "stdout",
     "output_type": "stream",
     "text": [
      "<class 'pandas.core.frame.DataFrame'>\n",
      "RangeIndex: 9281 entries, 0 to 9280\n",
      "Data columns (total 16 columns):\n",
      " #   Column                          Non-Null Count  Dtype  \n",
      "---  ------                          --------------  -----  \n",
      " 0   id                              9281 non-null   int64  \n",
      " 1   name                            9281 non-null   object \n",
      " 2   host_id                         9281 non-null   int64  \n",
      " 3   host_name                       9278 non-null   object \n",
      " 4   neighbourhood_group             0 non-null      float64\n",
      " 5   neighbourhood                   9281 non-null   object \n",
      " 6   latitude                        9281 non-null   float64\n",
      " 7   longitude                       9281 non-null   float64\n",
      " 8   room_type                       9281 non-null   object \n",
      " 9   price                           9281 non-null   int64  \n",
      " 10  minimum_nights                  9281 non-null   int64  \n",
      " 11  number_of_reviews               9281 non-null   int64  \n",
      " 12  last_review                     7858 non-null   object \n",
      " 13  reviews_per_month               7858 non-null   float64\n",
      " 14  calculated_host_listings_count  9281 non-null   int64  \n",
      " 15  availability_365                9281 non-null   int64  \n",
      "dtypes: float64(4), int64(7), object(5)\n",
      "memory usage: 1.1+ MB\n"
     ]
    }
   ],
   "source": [
    "list_sum.info()"
   ]
  },
  {
   "cell_type": "markdown",
   "metadata": {},
   "source": [
    "It seems like there are missing values as well as null values existing in both 'listings' and 'list_sum'. The Price column in both DataFrame is the renting price which is the main focus of this project. Even though 'list_sum' is cleaner, we will focus on 'listings' for now because of ots amount of features"
   ]
  },
  {
   "cell_type": "code",
   "execution_count": 7,
   "metadata": {},
   "outputs": [],
   "source": [
    "#drop scape data column because it is irrelevant to the listing price\n",
    "columns = ['scrape_id','last_scraped','calendar_last_scraped']\n",
    "listings = listings.drop(columns,axis =1)"
   ]
  },
  {
   "cell_type": "markdown",
   "metadata": {},
   "source": [
    "## Explore The Data"
   ]
  },
  {
   "cell_type": "markdown",
   "metadata": {},
   "source": [
    "### Price Column"
   ]
  },
  {
   "cell_type": "code",
   "execution_count": 8,
   "metadata": {},
   "outputs": [
    {
     "data": {
      "text/plain": [
       "0       $2,050.00\n",
       "1         $225.00\n",
       "2          $74.00\n",
       "3          $85.00\n",
       "4          $73.00\n",
       "          ...    \n",
       "9276      $123.00\n",
       "9277      $138.00\n",
       "9278      $119.00\n",
       "9279       $96.00\n",
       "9280       $36.00\n",
       "Name: price, Length: 9281, dtype: object"
      ]
     },
     "execution_count": 8,
     "metadata": {},
     "output_type": "execute_result"
    }
   ],
   "source": [
    "listings.price"
   ]
  },
  {
   "cell_type": "code",
   "execution_count": 9,
   "metadata": {},
   "outputs": [
    {
     "data": {
      "text/plain": [
       "Series([], Name: price, dtype: object)"
      ]
     },
     "execution_count": 9,
     "metadata": {},
     "output_type": "execute_result"
    }
   ],
   "source": [
    "#is there missing values?\n",
    "listings.price[listings.price.isnull()]"
   ]
  },
  {
   "cell_type": "code",
   "execution_count": 10,
   "metadata": {},
   "outputs": [],
   "source": [
    "#Remove the dollar signs and convert price coumn into appropriate type\n",
    "listings.price = listings.price.str.replace('$','')\n",
    "listings.price = listings.price.str.replace(',','')\n",
    "listings.price = pd.to_numeric(listings.price, errors='coerce')"
   ]
  },
  {
   "cell_type": "code",
   "execution_count": 11,
   "metadata": {},
   "outputs": [
    {
     "data": {
      "text/plain": [
       "count     9281.000000\n",
       "mean       237.190389\n",
       "std        771.186074\n",
       "min          0.000000\n",
       "25%         88.000000\n",
       "50%        135.000000\n",
       "75%        238.000000\n",
       "max      24999.000000\n",
       "Name: price, dtype: float64"
      ]
     },
     "execution_count": 11,
     "metadata": {},
     "output_type": "execute_result"
    }
   ],
   "source": [
    "listings.price.describe()"
   ]
  },
  {
   "cell_type": "code",
   "execution_count": 12,
   "metadata": {},
   "outputs": [
    {
     "data": {
      "text/plain": [
       "1401.0"
      ]
     },
     "execution_count": 12,
     "metadata": {},
     "output_type": "execute_result"
    }
   ],
   "source": [
    "#what is the price that 99% of the listings is equal or under?\n",
    "np.quantile(listings.price, .99)"
   ]
  },
  {
   "cell_type": "markdown",
   "metadata": {},
   "source": [
    "It seems that majority of the rental price is under 1401 dollars. Let's plot that for visual"
   ]
  },
  {
   "cell_type": "code",
   "execution_count": 13,
   "metadata": {},
   "outputs": [
    {
     "data": {
      "text/plain": [
       "<AxesSubplot:>"
      ]
     },
     "execution_count": 13,
     "metadata": {},
     "output_type": "execute_result"
    },
    {
     "data": {
      "image/png": "[encoded data removed]",
      "text/plain": [
       "<Figure size 432x288 with 1 Axes>"
      ]
     },
     "metadata": {
      "needs_background": "light"
     },
     "output_type": "display_data"
    }
   ],
   "source": [
    "listings.price[listings.price<1401].hist(bins=20)"
   ]
  },
  {
   "cell_type": "code",
   "execution_count": 14,
   "metadata": {},
   "outputs": [
    {
     "data": {
      "text/plain": [
       "<AxesSubplot:xlabel='price', ylabel='Proportion'>"
      ]
     },
     "execution_count": 14,
     "metadata": {},
     "output_type": "execute_result"
    },
    {
     "data": {
      "image/png": "[encoded data removed]",
      "text/plain": [
       "<Figure size 432x288 with 1 Axes>"
      ]
     },
     "metadata": {
      "needs_background": "light"
     },
     "output_type": "display_data"
    }
   ],
   "source": [
    "sns.ecdfplot(listings.price)"
   ]
  },
  {
   "cell_type": "code",
   "execution_count": 15,
   "metadata": {},
   "outputs": [
    {
     "data": {
      "text/plain": [
       "<AxesSubplot:xlabel='price', ylabel='Proportion'>"
      ]
     },
     "execution_count": 15,
     "metadata": {},
     "output_type": "execute_result"
    },
    {
     "data": {
      "image/png": "[encoded data removed]",
      "text/plain": [
       "<Figure size 432x288 with 1 Axes>"
      ]
     },
     "metadata": {
      "needs_background": "light"
     },
     "output_type": "display_data"
    }
   ],
   "source": [
    "sns.ecdfplot(listings.price[listings.price<1401])"
   ]
  },
  {
   "cell_type": "code",
   "execution_count": 16,
   "metadata": {},
   "outputs": [
    {
     "data": {
      "text/plain": [
       "24999.0"
      ]
     },
     "execution_count": 16,
     "metadata": {},
     "output_type": "execute_result"
    }
   ],
   "source": [
    "listings.price.max()"
   ]
  },
  {
   "cell_type": "code",
   "execution_count": 17,
   "metadata": {},
   "outputs": [
    {
     "data": {
      "text/plain": [
       "0.0"
      ]
     },
     "execution_count": 17,
     "metadata": {},
     "output_type": "execute_result"
    }
   ],
   "source": [
    "listings.price.min()"
   ]
  },
  {
   "cell_type": "code",
   "execution_count": 18,
   "metadata": {},
   "outputs": [
    {
     "data": {
      "text/html": [
       "<div>\n",
       "<style scoped>\n",
       "    .dataframe tbody tr th:only-of-type {\n",
       "        vertical-align: middle;\n",
       "    }\n",
       "\n",
       "    .dataframe tbody tr th {\n",
       "        vertical-align: top;\n",
       "    }\n",
       "\n",
       "    .dataframe thead th {\n",
       "        text-align: right;\n",
       "    }\n",
       "</style>\n",
       "<table border=\"1\" class=\"dataframe\">\n",
       "  <thead>\n",
       "    <tr style=\"text-align: right;\">\n",
       "      <th></th>\n",
       "      <th>id</th>\n",
       "      <th>listing_url</th>\n",
       "      <th>name</th>\n",
       "      <th>description</th>\n",
       "      <th>neighborhood_overview</th>\n",
       "      <th>picture_url</th>\n",
       "      <th>host_id</th>\n",
       "      <th>host_url</th>\n",
       "      <th>host_name</th>\n",
       "      <th>host_since</th>\n",
       "      <th>...</th>\n",
       "      <th>review_scores_communication</th>\n",
       "      <th>review_scores_location</th>\n",
       "      <th>review_scores_value</th>\n",
       "      <th>license</th>\n",
       "      <th>instant_bookable</th>\n",
       "      <th>calculated_host_listings_count</th>\n",
       "      <th>calculated_host_listings_count_entire_homes</th>\n",
       "      <th>calculated_host_listings_count_private_rooms</th>\n",
       "      <th>calculated_host_listings_count_shared_rooms</th>\n",
       "      <th>reviews_per_month</th>\n",
       "    </tr>\n",
       "  </thead>\n",
       "  <tbody>\n",
       "    <tr>\n",
       "      <th>7315</th>\n",
       "      <td>42875640</td>\n",
       "      <td>https://www.airbnb.com/rooms/42875640</td>\n",
       "      <td>Pacific Shores Inn</td>\n",
       "      <td>NaN</td>\n",
       "      <td>NaN</td>\n",
       "      <td>https://a0.muscache.com/pictures/2a1c18ba-843f...</td>\n",
       "      <td>311385424</td>\n",
       "      <td>https://www.airbnb.com/users/show/311385424</td>\n",
       "      <td>Pacific Shores Inn</td>\n",
       "      <td>2019-11-22</td>\n",
       "      <td>...</td>\n",
       "      <td>NaN</td>\n",
       "      <td>NaN</td>\n",
       "      <td>NaN</td>\n",
       "      <td>NaN</td>\n",
       "      <td>f</td>\n",
       "      <td>1</td>\n",
       "      <td>0</td>\n",
       "      <td>0</td>\n",
       "      <td>0</td>\n",
       "      <td>NaN</td>\n",
       "    </tr>\n",
       "    <tr>\n",
       "      <th>7316</th>\n",
       "      <td>42875642</td>\n",
       "      <td>https://www.airbnb.com/rooms/42875642</td>\n",
       "      <td>Diamond Head Inn</td>\n",
       "      <td>NaN</td>\n",
       "      <td>NaN</td>\n",
       "      <td>https://a0.muscache.com/pictures/c46e42ff-c005...</td>\n",
       "      <td>311383366</td>\n",
       "      <td>https://www.airbnb.com/users/show/311383366</td>\n",
       "      <td>Diamond Head Inn</td>\n",
       "      <td>2019-11-22</td>\n",
       "      <td>...</td>\n",
       "      <td>NaN</td>\n",
       "      <td>NaN</td>\n",
       "      <td>NaN</td>\n",
       "      <td>NaN</td>\n",
       "      <td>f</td>\n",
       "      <td>1</td>\n",
       "      <td>0</td>\n",
       "      <td>0</td>\n",
       "      <td>0</td>\n",
       "      <td>NaN</td>\n",
       "    </tr>\n",
       "    <tr>\n",
       "      <th>7406</th>\n",
       "      <td>43077965</td>\n",
       "      <td>https://www.airbnb.com/rooms/43077965</td>\n",
       "      <td>PB Surf Beachside Inn</td>\n",
       "      <td>NaN</td>\n",
       "      <td>NaN</td>\n",
       "      <td>https://a0.muscache.com/pictures/78370e0c-a5f7...</td>\n",
       "      <td>311386648</td>\n",
       "      <td>https://www.airbnb.com/users/show/311386648</td>\n",
       "      <td>PB Surf Beachside Inn</td>\n",
       "      <td>2019-11-22</td>\n",
       "      <td>...</td>\n",
       "      <td>NaN</td>\n",
       "      <td>NaN</td>\n",
       "      <td>NaN</td>\n",
       "      <td>NaN</td>\n",
       "      <td>f</td>\n",
       "      <td>1</td>\n",
       "      <td>0</td>\n",
       "      <td>0</td>\n",
       "      <td>0</td>\n",
       "      <td>NaN</td>\n",
       "    </tr>\n",
       "    <tr>\n",
       "      <th>7553</th>\n",
       "      <td>43499167</td>\n",
       "      <td>https://www.airbnb.com/rooms/43499167</td>\n",
       "      <td>La Jolla Cove</td>\n",
       "      <td>NaN</td>\n",
       "      <td>NaN</td>\n",
       "      <td>https://a0.muscache.com/pictures/miso/Hosting-...</td>\n",
       "      <td>346934536</td>\n",
       "      <td>https://www.airbnb.com/users/show/346934536</td>\n",
       "      <td>Brandon</td>\n",
       "      <td>2020-05-20</td>\n",
       "      <td>...</td>\n",
       "      <td>NaN</td>\n",
       "      <td>NaN</td>\n",
       "      <td>NaN</td>\n",
       "      <td>NaN</td>\n",
       "      <td>f</td>\n",
       "      <td>1</td>\n",
       "      <td>0</td>\n",
       "      <td>0</td>\n",
       "      <td>0</td>\n",
       "      <td>NaN</td>\n",
       "    </tr>\n",
       "  </tbody>\n",
       "</table>\n",
       "<p>4 rows × 71 columns</p>\n",
       "</div>"
      ],
      "text/plain": [
       "            id                            listing_url                   name  \\\n",
       "7315  42875640  https://www.airbnb.com/rooms/42875640     Pacific Shores Inn   \n",
       "7316  42875642  https://www.airbnb.com/rooms/42875642       Diamond Head Inn   \n",
       "7406  43077965  https://www.airbnb.com/rooms/43077965  PB Surf Beachside Inn   \n",
       "7553  43499167  https://www.airbnb.com/rooms/43499167          La Jolla Cove   \n",
       "\n",
       "     description neighborhood_overview  \\\n",
       "7315         NaN                   NaN   \n",
       "7316         NaN                   NaN   \n",
       "7406         NaN                   NaN   \n",
       "7553         NaN                   NaN   \n",
       "\n",
       "                                            picture_url    host_id  \\\n",
       "7315  https://a0.muscache.com/pictures/2a1c18ba-843f...  311385424   \n",
       "7316  https://a0.muscache.com/pictures/c46e42ff-c005...  311383366   \n",
       "7406  https://a0.muscache.com/pictures/78370e0c-a5f7...  311386648   \n",
       "7553  https://a0.muscache.com/pictures/miso/Hosting-...  346934536   \n",
       "\n",
       "                                         host_url              host_name  \\\n",
       "7315  https://www.airbnb.com/users/show/311385424     Pacific Shores Inn   \n",
       "7316  https://www.airbnb.com/users/show/311383366       Diamond Head Inn   \n",
       "7406  https://www.airbnb.com/users/show/311386648  PB Surf Beachside Inn   \n",
       "7553  https://www.airbnb.com/users/show/346934536                Brandon   \n",
       "\n",
       "      host_since  ... review_scores_communication review_scores_location  \\\n",
       "7315  2019-11-22  ...                         NaN                    NaN   \n",
       "7316  2019-11-22  ...                         NaN                    NaN   \n",
       "7406  2019-11-22  ...                         NaN                    NaN   \n",
       "7553  2020-05-20  ...                         NaN                    NaN   \n",
       "\n",
       "     review_scores_value license instant_bookable  \\\n",
       "7315                 NaN     NaN                f   \n",
       "7316                 NaN     NaN                f   \n",
       "7406                 NaN     NaN                f   \n",
       "7553                 NaN     NaN                f   \n",
       "\n",
       "     calculated_host_listings_count  \\\n",
       "7315                              1   \n",
       "7316                              1   \n",
       "7406                              1   \n",
       "7553                              1   \n",
       "\n",
       "     calculated_host_listings_count_entire_homes  \\\n",
       "7315                                           0   \n",
       "7316                                           0   \n",
       "7406                                           0   \n",
       "7553                                           0   \n",
       "\n",
       "     calculated_host_listings_count_private_rooms  \\\n",
       "7315                                            0   \n",
       "7316                                            0   \n",
       "7406                                            0   \n",
       "7553                                            0   \n",
       "\n",
       "     calculated_host_listings_count_shared_rooms  reviews_per_month  \n",
       "7315                                           0                NaN  \n",
       "7316                                           0                NaN  \n",
       "7406                                           0                NaN  \n",
       "7553                                           0                NaN  \n",
       "\n",
       "[4 rows x 71 columns]"
      ]
     },
     "execution_count": 18,
     "metadata": {},
     "output_type": "execute_result"
    }
   ],
   "source": [
    "listings[listings.price <= 0]"
   ]
  },
  {
   "cell_type": "code",
   "execution_count": 19,
   "metadata": {},
   "outputs": [],
   "source": [
    "# listings with $0 as price doesnt seem to hold significant values either so I will drop them\n",
    "listings.drop(listings[listings['price'] <= 0].index, inplace = True)"
   ]
  },
  {
   "cell_type": "markdown",
   "metadata": {},
   "source": [
    "### Missing Values"
   ]
  },
  {
   "cell_type": "code",
   "execution_count": 20,
   "metadata": {},
   "outputs": [
    {
     "data": {
      "text/html": [
       "<div>\n",
       "<style scoped>\n",
       "    .dataframe tbody tr th:only-of-type {\n",
       "        vertical-align: middle;\n",
       "    }\n",
       "\n",
       "    .dataframe tbody tr th {\n",
       "        vertical-align: top;\n",
       "    }\n",
       "\n",
       "    .dataframe thead th {\n",
       "        text-align: right;\n",
       "    }\n",
       "</style>\n",
       "<table border=\"1\" class=\"dataframe\">\n",
       "  <thead>\n",
       "    <tr style=\"text-align: right;\">\n",
       "      <th></th>\n",
       "      <th>count</th>\n",
       "      <th>%</th>\n",
       "    </tr>\n",
       "  </thead>\n",
       "  <tbody>\n",
       "    <tr>\n",
       "      <th>license</th>\n",
       "      <td>9277</td>\n",
       "      <td>100.000000</td>\n",
       "    </tr>\n",
       "    <tr>\n",
       "      <th>calendar_updated</th>\n",
       "      <td>9277</td>\n",
       "      <td>100.000000</td>\n",
       "    </tr>\n",
       "    <tr>\n",
       "      <th>bathrooms</th>\n",
       "      <td>9277</td>\n",
       "      <td>100.000000</td>\n",
       "    </tr>\n",
       "    <tr>\n",
       "      <th>neighbourhood_group_cleansed</th>\n",
       "      <td>9277</td>\n",
       "      <td>100.000000</td>\n",
       "    </tr>\n",
       "    <tr>\n",
       "      <th>host_about</th>\n",
       "      <td>2788</td>\n",
       "      <td>30.052819</td>\n",
       "    </tr>\n",
       "    <tr>\n",
       "      <th>neighbourhood</th>\n",
       "      <td>2629</td>\n",
       "      <td>28.338903</td>\n",
       "    </tr>\n",
       "    <tr>\n",
       "      <th>neighborhood_overview</th>\n",
       "      <td>2629</td>\n",
       "      <td>28.338903</td>\n",
       "    </tr>\n",
       "    <tr>\n",
       "      <th>review_scores_value</th>\n",
       "      <td>1510</td>\n",
       "      <td>16.276814</td>\n",
       "    </tr>\n",
       "    <tr>\n",
       "      <th>review_scores_location</th>\n",
       "      <td>1510</td>\n",
       "      <td>16.276814</td>\n",
       "    </tr>\n",
       "    <tr>\n",
       "      <th>review_scores_checkin</th>\n",
       "      <td>1510</td>\n",
       "      <td>16.276814</td>\n",
       "    </tr>\n",
       "    <tr>\n",
       "      <th>review_scores_communication</th>\n",
       "      <td>1507</td>\n",
       "      <td>16.244476</td>\n",
       "    </tr>\n",
       "    <tr>\n",
       "      <th>review_scores_accuracy</th>\n",
       "      <td>1507</td>\n",
       "      <td>16.244476</td>\n",
       "    </tr>\n",
       "    <tr>\n",
       "      <th>review_scores_cleanliness</th>\n",
       "      <td>1506</td>\n",
       "      <td>16.233696</td>\n",
       "    </tr>\n",
       "    <tr>\n",
       "      <th>review_scores_rating</th>\n",
       "      <td>1462</td>\n",
       "      <td>15.759405</td>\n",
       "    </tr>\n",
       "    <tr>\n",
       "      <th>last_review</th>\n",
       "      <td>1419</td>\n",
       "      <td>15.295893</td>\n",
       "    </tr>\n",
       "    <tr>\n",
       "      <th>first_review</th>\n",
       "      <td>1419</td>\n",
       "      <td>15.295893</td>\n",
       "    </tr>\n",
       "    <tr>\n",
       "      <th>reviews_per_month</th>\n",
       "      <td>1419</td>\n",
       "      <td>15.295893</td>\n",
       "    </tr>\n",
       "    <tr>\n",
       "      <th>host_response_time</th>\n",
       "      <td>1131</td>\n",
       "      <td>12.191441</td>\n",
       "    </tr>\n",
       "    <tr>\n",
       "      <th>host_response_rate</th>\n",
       "      <td>1131</td>\n",
       "      <td>12.191441</td>\n",
       "    </tr>\n",
       "    <tr>\n",
       "      <th>bedrooms</th>\n",
       "      <td>985</td>\n",
       "      <td>10.617657</td>\n",
       "    </tr>\n",
       "    <tr>\n",
       "      <th>host_neighbourhood</th>\n",
       "      <td>954</td>\n",
       "      <td>10.283497</td>\n",
       "    </tr>\n",
       "    <tr>\n",
       "      <th>host_acceptance_rate</th>\n",
       "      <td>620</td>\n",
       "      <td>6.683195</td>\n",
       "    </tr>\n",
       "    <tr>\n",
       "      <th>description</th>\n",
       "      <td>161</td>\n",
       "      <td>1.735475</td>\n",
       "    </tr>\n",
       "    <tr>\n",
       "      <th>beds</th>\n",
       "      <td>39</td>\n",
       "      <td>0.420395</td>\n",
       "    </tr>\n",
       "    <tr>\n",
       "      <th>host_location</th>\n",
       "      <td>17</td>\n",
       "      <td>0.183249</td>\n",
       "    </tr>\n",
       "    <tr>\n",
       "      <th>bathrooms_text</th>\n",
       "      <td>6</td>\n",
       "      <td>0.064676</td>\n",
       "    </tr>\n",
       "    <tr>\n",
       "      <th>host_name</th>\n",
       "      <td>3</td>\n",
       "      <td>0.032338</td>\n",
       "    </tr>\n",
       "    <tr>\n",
       "      <th>host_since</th>\n",
       "      <td>3</td>\n",
       "      <td>0.032338</td>\n",
       "    </tr>\n",
       "    <tr>\n",
       "      <th>host_identity_verified</th>\n",
       "      <td>3</td>\n",
       "      <td>0.032338</td>\n",
       "    </tr>\n",
       "    <tr>\n",
       "      <th>host_is_superhost</th>\n",
       "      <td>3</td>\n",
       "      <td>0.032338</td>\n",
       "    </tr>\n",
       "    <tr>\n",
       "      <th>host_has_profile_pic</th>\n",
       "      <td>3</td>\n",
       "      <td>0.032338</td>\n",
       "    </tr>\n",
       "    <tr>\n",
       "      <th>host_picture_url</th>\n",
       "      <td>3</td>\n",
       "      <td>0.032338</td>\n",
       "    </tr>\n",
       "    <tr>\n",
       "      <th>host_listings_count</th>\n",
       "      <td>3</td>\n",
       "      <td>0.032338</td>\n",
       "    </tr>\n",
       "    <tr>\n",
       "      <th>host_total_listings_count</th>\n",
       "      <td>3</td>\n",
       "      <td>0.032338</td>\n",
       "    </tr>\n",
       "    <tr>\n",
       "      <th>host_thumbnail_url</th>\n",
       "      <td>3</td>\n",
       "      <td>0.032338</td>\n",
       "    </tr>\n",
       "  </tbody>\n",
       "</table>\n",
       "</div>"
      ],
      "text/plain": [
       "                              count           %\n",
       "license                        9277  100.000000\n",
       "calendar_updated               9277  100.000000\n",
       "bathrooms                      9277  100.000000\n",
       "neighbourhood_group_cleansed   9277  100.000000\n",
       "host_about                     2788   30.052819\n",
       "neighbourhood                  2629   28.338903\n",
       "neighborhood_overview          2629   28.338903\n",
       "review_scores_value            1510   16.276814\n",
       "review_scores_location         1510   16.276814\n",
       "review_scores_checkin          1510   16.276814\n",
       "review_scores_communication    1507   16.244476\n",
       "review_scores_accuracy         1507   16.244476\n",
       "review_scores_cleanliness      1506   16.233696\n",
       "review_scores_rating           1462   15.759405\n",
       "last_review                    1419   15.295893\n",
       "first_review                   1419   15.295893\n",
       "reviews_per_month              1419   15.295893\n",
       "host_response_time             1131   12.191441\n",
       "host_response_rate             1131   12.191441\n",
       "bedrooms                        985   10.617657\n",
       "host_neighbourhood              954   10.283497\n",
       "host_acceptance_rate            620    6.683195\n",
       "description                     161    1.735475\n",
       "beds                             39    0.420395\n",
       "host_location                    17    0.183249\n",
       "bathrooms_text                    6    0.064676\n",
       "host_name                         3    0.032338\n",
       "host_since                        3    0.032338\n",
       "host_identity_verified            3    0.032338\n",
       "host_is_superhost                 3    0.032338\n",
       "host_has_profile_pic              3    0.032338\n",
       "host_picture_url                  3    0.032338\n",
       "host_listings_count               3    0.032338\n",
       "host_total_listings_count         3    0.032338\n",
       "host_thumbnail_url                3    0.032338"
      ]
     },
     "execution_count": 20,
     "metadata": {},
     "output_type": "execute_result"
    }
   ],
   "source": [
    "#Count the number of missing values in each column as well as the percentages\n",
    "missing = pd.concat([listings.isnull().sum(), 100 * listings.isnull().mean()], axis=1)\n",
    "missing.columns=[\"count\", \"%\"]\n",
    "missing = missing[missing['%']!=0]\n",
    "missing.sort_values(by='%', ascending =False)"
   ]
  },
  {
   "cell_type": "markdown",
   "metadata": {},
   "source": [
    "There are 4 columns that doesn't hold any values at all: 'license','bathrooms','neighbourhood_group_cleansed' and 'calendar_updated'. These column will be dropped. Other columns that miss 10% -30% of their values can be explained as there values are not required and might not be applicable to all listings. These can be left alone for now. "
   ]
  },
  {
   "cell_type": "code",
   "execution_count": 21,
   "metadata": {},
   "outputs": [],
   "source": [
    "#drop empty columns\n",
    "columns = ['license','bathrooms','neighbourhood_group_cleansed','calendar_updated']\n",
    "listings = listings.drop(columns,axis =1)"
   ]
  },
  {
   "cell_type": "markdown",
   "metadata": {},
   "source": [
    "### Categorical Features"
   ]
  },
  {
   "cell_type": "markdown",
   "metadata": {},
   "source": [
    "#### Neighbourhood"
   ]
  },
  {
   "cell_type": "code",
   "execution_count": 22,
   "metadata": {},
   "outputs": [
    {
     "data": {
      "text/html": [
       "<div>\n",
       "<style scoped>\n",
       "    .dataframe tbody tr th:only-of-type {\n",
       "        vertical-align: middle;\n",
       "    }\n",
       "\n",
       "    .dataframe tbody tr th {\n",
       "        vertical-align: top;\n",
       "    }\n",
       "\n",
       "    .dataframe thead th {\n",
       "        text-align: right;\n",
       "    }\n",
       "</style>\n",
       "<table border=\"1\" class=\"dataframe\">\n",
       "  <thead>\n",
       "    <tr style=\"text-align: right;\">\n",
       "      <th></th>\n",
       "      <th>neighbourhood</th>\n",
       "      <th>neighbourhood_cleansed</th>\n",
       "    </tr>\n",
       "  </thead>\n",
       "  <tbody>\n",
       "    <tr>\n",
       "      <th>0</th>\n",
       "      <td>San Diego, California, United States</td>\n",
       "      <td>Mission Bay</td>\n",
       "    </tr>\n",
       "    <tr>\n",
       "      <th>1</th>\n",
       "      <td>NaN</td>\n",
       "      <td>Pacific Beach</td>\n",
       "    </tr>\n",
       "    <tr>\n",
       "      <th>2</th>\n",
       "      <td>San Diego, California, United States</td>\n",
       "      <td>Roseville</td>\n",
       "    </tr>\n",
       "    <tr>\n",
       "      <th>3</th>\n",
       "      <td>La Jolla, California, United States</td>\n",
       "      <td>La Jolla</td>\n",
       "    </tr>\n",
       "    <tr>\n",
       "      <th>4</th>\n",
       "      <td>San Diego, California, United States</td>\n",
       "      <td>Pacific Beach</td>\n",
       "    </tr>\n",
       "    <tr>\n",
       "      <th>...</th>\n",
       "      <td>...</td>\n",
       "      <td>...</td>\n",
       "    </tr>\n",
       "    <tr>\n",
       "      <th>9276</th>\n",
       "      <td>NaN</td>\n",
       "      <td>College Area</td>\n",
       "    </tr>\n",
       "    <tr>\n",
       "      <th>9277</th>\n",
       "      <td>NaN</td>\n",
       "      <td>East Village</td>\n",
       "    </tr>\n",
       "    <tr>\n",
       "      <th>9278</th>\n",
       "      <td>San Diego, California, United States</td>\n",
       "      <td>Mission Bay</td>\n",
       "    </tr>\n",
       "    <tr>\n",
       "      <th>9279</th>\n",
       "      <td>NaN</td>\n",
       "      <td>Balboa Park</td>\n",
       "    </tr>\n",
       "    <tr>\n",
       "      <th>9280</th>\n",
       "      <td>NaN</td>\n",
       "      <td>North Clairemont</td>\n",
       "    </tr>\n",
       "  </tbody>\n",
       "</table>\n",
       "<p>9277 rows × 2 columns</p>\n",
       "</div>"
      ],
      "text/plain": [
       "                             neighbourhood neighbourhood_cleansed\n",
       "0     San Diego, California, United States            Mission Bay\n",
       "1                                      NaN          Pacific Beach\n",
       "2     San Diego, California, United States              Roseville\n",
       "3      La Jolla, California, United States               La Jolla\n",
       "4     San Diego, California, United States          Pacific Beach\n",
       "...                                    ...                    ...\n",
       "9276                                   NaN           College Area\n",
       "9277                                   NaN           East Village\n",
       "9278  San Diego, California, United States            Mission Bay\n",
       "9279                                   NaN            Balboa Park\n",
       "9280                                   NaN       North Clairemont\n",
       "\n",
       "[9277 rows x 2 columns]"
      ]
     },
     "execution_count": 22,
     "metadata": {},
     "output_type": "execute_result"
    }
   ],
   "source": [
    "#compare neighbourhood and neighbourhood_cleansed column\n",
    "listings[['neighbourhood','neighbourhood_cleansed']]"
   ]
  },
  {
   "cell_type": "code",
   "execution_count": 23,
   "metadata": {},
   "outputs": [],
   "source": [
    "#drop neighbourhood column\n",
    "listings = listings.drop('neighbourhood',axis =1)"
   ]
  },
  {
   "cell_type": "code",
   "execution_count": 24,
   "metadata": {},
   "outputs": [],
   "source": [
    "#change column name into neighbourhood\n",
    "listings = listings.rename(columns={'neighbourhood_cleansed':'neighbourhood'})"
   ]
  },
  {
   "cell_type": "code",
   "execution_count": 25,
   "metadata": {},
   "outputs": [
    {
     "data": {
      "text/plain": [
       "Index(['id', 'listing_url', 'name', 'description', 'neighborhood_overview',\n",
       "       'picture_url', 'host_id', 'host_url', 'host_name', 'host_since',\n",
       "       'host_location', 'host_about', 'host_response_time',\n",
       "       'host_response_rate', 'host_acceptance_rate', 'host_is_superhost',\n",
       "       'host_thumbnail_url', 'host_picture_url', 'host_neighbourhood',\n",
       "       'host_listings_count', 'host_total_listings_count',\n",
       "       'host_verifications', 'host_has_profile_pic', 'host_identity_verified',\n",
       "       'neighbourhood', 'latitude', 'longitude', 'property_type', 'room_type',\n",
       "       'accommodates', 'bathrooms_text', 'bedrooms', 'beds', 'amenities',\n",
       "       'price', 'minimum_nights', 'maximum_nights', 'minimum_minimum_nights',\n",
       "       'maximum_minimum_nights', 'minimum_maximum_nights',\n",
       "       'maximum_maximum_nights', 'minimum_nights_avg_ntm',\n",
       "       'maximum_nights_avg_ntm', 'has_availability', 'availability_30',\n",
       "       'availability_60', 'availability_90', 'availability_365',\n",
       "       'number_of_reviews', 'number_of_reviews_ltm', 'number_of_reviews_l30d',\n",
       "       'first_review', 'last_review', 'review_scores_rating',\n",
       "       'review_scores_accuracy', 'review_scores_cleanliness',\n",
       "       'review_scores_checkin', 'review_scores_communication',\n",
       "       'review_scores_location', 'review_scores_value', 'instant_bookable',\n",
       "       'calculated_host_listings_count',\n",
       "       'calculated_host_listings_count_entire_homes',\n",
       "       'calculated_host_listings_count_private_rooms',\n",
       "       'calculated_host_listings_count_shared_rooms', 'reviews_per_month'],\n",
       "      dtype='object')"
      ]
     },
     "execution_count": 25,
     "metadata": {},
     "output_type": "execute_result"
    }
   ],
   "source": [
    "listings.columns"
   ]
  },
  {
   "cell_type": "markdown",
   "metadata": {},
   "source": [
    "#### Dupplicate listings"
   ]
  },
  {
   "cell_type": "code",
   "execution_count": 26,
   "metadata": {},
   "outputs": [
    {
     "data": {
      "text/plain": [
       "4558846     1\n",
       "25017669    1\n",
       "11907983    1\n",
       "23074208    1\n",
       "46545165    1\n",
       "Name: id, dtype: int64"
      ]
     },
     "execution_count": 26,
     "metadata": {},
     "output_type": "execute_result"
    }
   ],
   "source": [
    "listings['id'].value_counts().head()"
   ]
  },
  {
   "cell_type": "code",
   "execution_count": 27,
   "metadata": {},
   "outputs": [
    {
     "data": {
      "text/plain": [
       "Upscale 2BR w/ hotel-like amenities in San Diego    17\n",
       "Hotel near Del Mar, 1 Queen & Sleeper, Breakfast     8\n",
       "California Dreams – Bed in Fun Beach Hostel          8\n",
       "A place of your own | 1BR in San Diego               7\n",
       "Upscale 1BR w/ hotel-like amenities in San Diego     7\n",
       "Rest easy and live life | 1BR in San Diego           7\n",
       "Professionally maintained apt | 2BR in San Diego     6\n",
       "Resort Style Community | 1BR in San Diego            4\n",
       "One bedroom cottage at Blue Heron Cottages           4\n",
       "A home you will love | 1BR in Chula Vista            4\n",
       "A place of your own | 2BR in San Diego               4\n",
       "Rest easy and live life | Studio in San Diego        4\n",
       "Relax in an apt of your own | 1BR in San Diego       4\n",
       "Pantai Inn- 1 bedroom suite                          3\n",
       "Master Bedroom with Private Bath                     3\n",
       "Master Bedroom                                       3\n",
       "Unwind in a SERENE Resort (25% Monthly Discount)     3\n",
       "Rest easy and live life | 2BR in San Diego           3\n",
       "Private Room in fun, hip hostel                      3\n",
       "Bright San Diego Studio in the Heart of Gaslamp!     3\n",
       "Name: name, dtype: int64"
      ]
     },
     "execution_count": 27,
     "metadata": {},
     "output_type": "execute_result"
    }
   ],
   "source": [
    "listings['name'].value_counts().head(20)"
   ]
  },
  {
   "cell_type": "markdown",
   "metadata": {},
   "source": [
    "Interesting. Even though all the id is unique but a second look at the name shows that there are some duplications"
   ]
  },
  {
   "cell_type": "code",
   "execution_count": 28,
   "metadata": {},
   "outputs": [
    {
     "data": {
      "text/plain": [
       "id                  17\n",
       "listing_url         17\n",
       "availability_365    13\n",
       "availability_90     13\n",
       "availability_60     11\n",
       "price                6\n",
       "availability_30      6\n",
       "amenities            4\n",
       "longitude            1\n",
       "latitude             1\n",
       "dtype: int64"
      ]
     },
     "execution_count": 28,
     "metadata": {},
     "output_type": "execute_result"
    }
   ],
   "source": [
    "dupl_0 = listings[listings.name == 'Upscale 2BR w/ hotel-like amenities in San Diego']\n",
    "dupl_0.nunique().sort_values(ascending=False).head(10)"
   ]
  },
  {
   "cell_type": "markdown",
   "metadata": {},
   "source": [
    "These entries seems to be the same location and same room type but with slightly different price and amenities and different availability. Need to investigate why. Are other duplications similar?"
   ]
  },
  {
   "cell_type": "code",
   "execution_count": 29,
   "metadata": {},
   "outputs": [
    {
     "data": {
      "text/plain": [
       "id                       8\n",
       "last_review              8\n",
       "listing_url              8\n",
       "longitude                8\n",
       "latitude                 7\n",
       "first_review             7\n",
       "reviews_per_month        7\n",
       "amenities                6\n",
       "number_of_reviews_ltm    5\n",
       "number_of_reviews        5\n",
       "dtype: int64"
      ]
     },
     "execution_count": 29,
     "metadata": {},
     "output_type": "execute_result"
    }
   ],
   "source": [
    "dupl_1 = listings[listings.name == 'Hotel near Del Mar, 1 Queen & Sleeper, Breakfast']\n",
    "dupl_1.nunique().sort_values(ascending=False).head(10)"
   ]
  },
  {
   "cell_type": "code",
   "execution_count": 30,
   "metadata": {},
   "outputs": [
    {
     "data": {
      "text/plain": [
       "reviews_per_month       8\n",
       "last_review             8\n",
       "listing_url             8\n",
       "description             8\n",
       "picture_url             8\n",
       "amenities               8\n",
       "first_review            8\n",
       "id                      8\n",
       "number_of_reviews       7\n",
       "review_scores_rating    6\n",
       "dtype: int64"
      ]
     },
     "execution_count": 30,
     "metadata": {},
     "output_type": "execute_result"
    }
   ],
   "source": [
    "dupl_2 = listings[listings.name == 'California Dreams – Bed in Fun Beach Hostel']\n",
    "dupl_2.nunique().sort_values(ascending=False).head(10)"
   ]
  },
  {
   "cell_type": "markdown",
   "metadata": {},
   "source": [
    "Not sure if there is any consistanecies between these similar looking listings. Leave them for now"
   ]
  },
  {
   "cell_type": "markdown",
   "metadata": {},
   "source": [
    "#### Neighbourhood"
   ]
  },
  {
   "cell_type": "code",
   "execution_count": 31,
   "metadata": {},
   "outputs": [
    {
     "data": {
      "text/plain": [
       "102"
      ]
     },
     "execution_count": 31,
     "metadata": {},
     "output_type": "execute_result"
    }
   ],
   "source": [
    "listings['neighbourhood'].nunique()"
   ]
  },
  {
   "cell_type": "code",
   "execution_count": 32,
   "metadata": {},
   "outputs": [
    {
     "data": {
      "text/plain": [
       "Mission Bay                    1441\n",
       "Pacific Beach                   744\n",
       "La Jolla                        660\n",
       "East Village                    550\n",
       "Ocean Beach                     432\n",
       "                               ... \n",
       "Tijuana River Valley              3\n",
       "Eastlake Woods                    2\n",
       "Palm City                         2\n",
       "Amphitheater And Water Park       2\n",
       "Lincoln Park                      2\n",
       "Name: neighbourhood, Length: 102, dtype: int64"
      ]
     },
     "execution_count": 32,
     "metadata": {},
     "output_type": "execute_result"
    }
   ],
   "source": [
    "listings.neighbourhood.value_counts().sort_values(ascending=False)"
   ]
  },
  {
   "cell_type": "code",
   "execution_count": 33,
   "metadata": {},
   "outputs": [
    {
     "data": {
      "text/plain": [
       "count            9277\n",
       "unique            102\n",
       "top       Mission Bay\n",
       "freq             1441\n",
       "Name: neighbourhood, dtype: object"
      ]
     },
     "execution_count": 33,
     "metadata": {},
     "output_type": "execute_result"
    }
   ],
   "source": [
    "listings.neighbourhood.describe()"
   ]
  },
  {
   "cell_type": "code",
   "execution_count": 34,
   "metadata": {},
   "outputs": [
    {
     "data": {
      "text/plain": [
       "Text(0.5, 0, 'Count')"
      ]
     },
     "execution_count": 34,
     "metadata": {},
     "output_type": "execute_result"
    },
    {
     "data": {
      "image/png": "[encoded data removed]",
      "text/plain": [
       "<Figure size 720x1440 with 1 Axes>"
      ]
     },
     "metadata": {
      "needs_background": "light"
     },
     "output_type": "display_data"
    }
   ],
   "source": [
    "#plot number of histings in each neighbourhood\n",
    "fig, ax = plt.subplots(1, 1, figsize=(10,20))\n",
    "listings.neighbourhood.value_counts().plot(kind='barh')\n",
    "ax.set_title('Neighbourhood')\n",
    "ax.set_xlabel('Count')"
   ]
  },
  {
   "cell_type": "code",
   "execution_count": 35,
   "metadata": {},
   "outputs": [],
   "source": [
    "neighbour_price = listings.groupby('neighbourhood').price.agg(np.mean)"
   ]
  },
  {
   "cell_type": "code",
   "execution_count": 36,
   "metadata": {},
   "outputs": [
    {
     "data": {
      "image/png": "[encoded data removed]",
      "text/plain": [
       "<Figure size 1584x576 with 1 Axes>"
      ]
     },
     "metadata": {
      "needs_background": "light"
     },
     "output_type": "display_data"
    }
   ],
   "source": [
    "#plot average listing price in each neighbourhood\n",
    "plt.figure(figsize=(22,8))\n",
    "plt.scatter(neighbour_price.index, neighbour_price)\n",
    "plt.xticks(rotation = 90)\n",
    "plt.show()"
   ]
  },
  {
   "cell_type": "code",
   "execution_count": 37,
   "metadata": {},
   "outputs": [
    {
     "data": {
      "text/plain": [
       "neighbourhood\n",
       "Del Mar Heights    816.083333\n",
       "La Jolla           647.184848\n",
       "Torrey Pines       675.933333\n",
       "Name: price, dtype: float64"
      ]
     },
     "execution_count": 37,
     "metadata": {},
     "output_type": "execute_result"
    }
   ],
   "source": [
    "# There are 3 neighbourhood that are more expensive than the rest on average. Which ones?\n",
    "neighbour_price[neighbour_price>600]"
   ]
  },
  {
   "cell_type": "markdown",
   "metadata": {},
   "source": [
    "#### Amenities"
   ]
  },
  {
   "cell_type": "code",
   "execution_count": 38,
   "metadata": {},
   "outputs": [
    {
     "data": {
      "text/plain": [
       "0       [\"Stove\", \"Smoke alarm\", \"Refrigerator\", \"Kitc...\n",
       "1       [\"Hot water\", \"Smoke alarm\", \"Kitchen\", \"Hair ...\n",
       "2       [\"Hot water\", \"Smoke alarm\", \"Kitchen\", \"First...\n",
       "3       [\"Hot water\", \"Keurig coffee machine\", \"Beach ...\n",
       "4       [\"Hot water\", \"Smoke alarm\", \"Refrigerator\", \"...\n",
       "                              ...                        \n",
       "9276    [\"Hot water\", \"Stove\", \"Smoke alarm\", \"Refrige...\n",
       "9277    [\"Gym\", \"Essentials\", \"Dryer\", \"Hangers\", \"TV\"...\n",
       "9278    [\"Hot water\", \"Stove\", \"Smoke alarm\", \"Refrige...\n",
       "9279    [\"Hot water\", \"Keurig coffee machine\", \"Stove\"...\n",
       "9280    [\"Hot water\", \"Keurig coffee machine\", \"Mini f...\n",
       "Name: amenities, Length: 9277, dtype: object"
      ]
     },
     "execution_count": 38,
     "metadata": {},
     "output_type": "execute_result"
    }
   ],
   "source": [
    "listings.amenities"
   ]
  },
  {
   "cell_type": "code",
   "execution_count": 39,
   "metadata": {},
   "outputs": [
    {
     "data": {
      "text/plain": [
       "str"
      ]
     },
     "execution_count": 39,
     "metadata": {},
     "output_type": "execute_result"
    }
   ],
   "source": [
    "#see what type of data is the list of emenities is held as\n",
    "type(listings.amenities[0])"
   ]
  },
  {
   "cell_type": "code",
   "execution_count": 40,
   "metadata": {},
   "outputs": [
    {
     "data": {
      "text/plain": [
       "list"
      ]
     },
     "execution_count": 40,
     "metadata": {},
     "output_type": "execute_result"
    }
   ],
   "source": [
    "#convert the string representation of list into list of amenities\n",
    "amenities = []\n",
    "for i in listings.amenities.index:\n",
    "    amenities.insert(i, ast.literal_eval(listings.amenities[i]))\n",
    "type (amenities[0])"
   ]
  },
  {
   "cell_type": "code",
   "execution_count": 41,
   "metadata": {},
   "outputs": [
    {
     "data": {
      "text/plain": [
       "list"
      ]
     },
     "execution_count": 41,
     "metadata": {},
     "output_type": "execute_result"
    }
   ],
   "source": [
    "#add the amenities list back into DataFrame\n",
    "listings.amenities = amenities\n",
    "type(listings.amenities[0])"
   ]
  },
  {
   "cell_type": "markdown",
   "metadata": {},
   "source": [
    "## Save Data"
   ]
  },
  {
   "cell_type": "code",
   "execution_count": 42,
   "metadata": {},
   "outputs": [],
   "source": [
    "listings.to_csv('../listings_cleaned.csv', index=False)"
   ]
  },
  {
   "cell_type": "code",
   "execution_count": null,
   "metadata": {},
   "outputs": [],
   "source": []
  },
  {
   "cell_type": "code",
   "execution_count": null,
   "metadata": {},
   "outputs": [],
   "source": []
  },
  {
   "cell_type": "code",
   "execution_count": null,
   "metadata": {},
   "outputs": [],
   "source": []
  },
  {
   "cell_type": "code",
   "execution_count": null,
   "metadata": {},
   "outputs": [],
   "source": []
  },
  {
   "cell_type": "code",
   "execution_count": null,
   "metadata": {},
   "outputs": [],
   "source": []
  }
 ],
 "metadata": {
  "kernelspec": {
   "display_name": "Python 3",
   "language": "python",
   "name": "python3"
  },
  "language_info": {
   "codemirror_mode": {
    "name": "ipython",
    "version": 3
   },
   "file_extension": ".py",
   "mimetype": "text/x-python",
   "name": "python",
   "nbconvert_exporter": "python",
   "pygments_lexer": "ipython3",
   "version": "3.8.5"
  }
 },
 "nbformat": 4,
 "nbformat_minor": 4
}
